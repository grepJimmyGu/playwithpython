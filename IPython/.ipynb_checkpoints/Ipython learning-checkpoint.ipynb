{
 "cells": [
  {
   "cell_type": "code",
   "execution_count": 1,
   "metadata": {
    "collapsed": true
   },
   "outputs": [],
   "source": [
    "# Chapter 1: Basic Ipython"
   ]
  },
  {
   "cell_type": "code",
   "execution_count": 2,
   "metadata": {
    "collapsed": false
   },
   "outputs": [
    {
     "data": {
      "text/plain": [
       "5"
      ]
     },
     "execution_count": 2,
     "metadata": {},
     "output_type": "execute_result"
    }
   ],
   "source": [
    "a = 5\n",
    "a"
   ]
  },
  {
   "cell_type": "code",
   "execution_count": 3,
   "metadata": {
    "collapsed": false
   },
   "outputs": [
    {
     "name": "stdout",
     "output_type": "stream",
     "text": [
      "Activating auto-logging. Current session state plus future input saved.\n",
      "Filename       : #created log file to record the entire session\n",
      "Mode           : backup\n",
      "Output logging : False\n",
      "Raw input log  : False\n",
      "Timestamping   : False\n",
      "State          : active\n"
     ]
    }
   ],
   "source": [
    "%logstart #created log file to record the entire session\n",
    "from numpy.random import randn"
   ]
  },
  {
   "cell_type": "code",
   "execution_count": 4,
   "metadata": {
    "collapsed": false
   },
   "outputs": [],
   "source": [
    "data = {i : randn() for i in range(7)}"
   ]
  },
  {
   "cell_type": "code",
   "execution_count": 5,
   "metadata": {
    "collapsed": false
   },
   "outputs": [
    {
     "name": "stdout",
     "output_type": "stream",
     "text": [
      "{0: 1.077956425003969, 1: 1.2048492596017528, 2: -0.46731560889008367, 3: -0.7587117087822294, 4: 1.030889665344266, 5: 0.15942863925884085, 6: -1.2407430659449934}\n"
     ]
    }
   ],
   "source": [
    "print data"
   ]
  },
  {
   "cell_type": "code",
   "execution_count": 6,
   "metadata": {
    "collapsed": false
   },
   "outputs": [],
   "source": [
    "an_apple = 1.12321\n",
    "an_pear = 1321.123"
   ]
  },
  {
   "cell_type": "code",
   "execution_count": 7,
   "metadata": {
    "collapsed": true
   },
   "outputs": [],
   "source": [
    "an_apple?"
   ]
  },
  {
   "cell_type": "code",
   "execution_count": 8,
   "metadata": {
    "collapsed": true
   },
   "outputs": [],
   "source": [
    "# %run any .py code on the ipython "
   ]
  },
  {
   "cell_type": "code",
   "execution_count": 9,
   "metadata": {
    "collapsed": false
   },
   "outputs": [],
   "source": [
    "%run Entertainment_center"
   ]
  },
  {
   "cell_type": "code",
   "execution_count": 10,
   "metadata": {
    "collapsed": false
   },
   "outputs": [],
   "source": [
    "import webbrowser\n",
    "import time\n",
    "\n",
    "def take_break(x):\n",
    "    \"\"\"Take INPUT number of breaks by watching STEPHEN CURRY highlight!!\"\"\"\n",
    "    i = 1\n",
    "    total_breaks = x\n",
    "    print(\"This program starts at\"+time.ctime())\n",
    "    while (i <= total_breaks):\n",
    "        time.sleep(2)\n",
    "        webbrowser.open(\"https://www.youtube.com/watch?v=SevHZgBnfF0\")\n",
    "        i = i+1\n",
    "    print (\"number of breaking time:\"+str(i-1))"
   ]
  },
  {
   "cell_type": "code",
   "execution_count": 11,
   "metadata": {
    "collapsed": false
   },
   "outputs": [],
   "source": [
    "take_break?"
   ]
  },
  {
   "cell_type": "code",
   "execution_count": 12,
   "metadata": {
    "collapsed": true
   },
   "outputs": [],
   "source": [
    "# Magic command: any command starting with %"
   ]
  },
  {
   "cell_type": "code",
   "execution_count": 13,
   "metadata": {
    "collapsed": false
   },
   "outputs": [],
   "source": [
    "import numpy as np\n",
    "a = np.random.randn(100,100)"
   ]
  },
  {
   "cell_type": "code",
   "execution_count": 14,
   "metadata": {
    "collapsed": false
   },
   "outputs": [
    {
     "name": "stdout",
     "output_type": "stream",
     "text": [
      "The slowest run took 3713.84 times longer than the fastest. This could mean that an intermediate result is being cached.\n",
      "1 loop, best of 3: 119 µs per loop\n"
     ]
    }
   ],
   "source": [
    "%timeit np.dot(a,a)"
   ]
  },
  {
   "cell_type": "code",
   "execution_count": 15,
   "metadata": {
    "collapsed": false
   },
   "outputs": [],
   "source": [
    "# %reset"
   ]
  },
  {
   "cell_type": "code",
   "execution_count": 16,
   "metadata": {
    "collapsed": false
   },
   "outputs": [
    {
     "name": "stderr",
     "output_type": "stream",
     "text": [
      "ERROR:root:Line magic function `%logend` not found.\n"
     ]
    },
    {
     "name": "stdout",
     "output_type": "stream",
     "text": [
      "a = 5\n",
      "a\n",
      "%logstart #created log file to record the entire session\n",
      "from numpy.random import randn\n",
      "data = {i : randn() for i in range(7)}\n",
      "print data\n",
      "an_apple = 1.12321\n",
      "an_pear = 1321.123\n",
      "an_apple?\n",
      "# %run any .py code on the ipython\n",
      "%run Entertainment_center\n",
      "import webbrowser\n",
      "import time\n",
      "\n",
      "def take_break(x):\n",
      "    \"\"\"Take INPUT number of breaks by watching STEPHEN CURRY highlight!!\"\"\"\n",
      "    i = 1\n",
      "    total_breaks = x\n",
      "    print(\"This program starts at\"+time.ctime())\n",
      "    while (i <= total_breaks):\n",
      "        time.sleep(2)\n",
      "        webbrowser.open(\"https://www.youtube.com/watch?v=SevHZgBnfF0\")\n",
      "        i = i+1\n",
      "    print (\"number of breaking time:\"+str(i-1))\n",
      "take_break?\n",
      "# Magic command: any command starting with %\n",
      "import numpy as np\n",
      "a = np.random.randn(100,100)\n",
      "%timeit np.dot(a,a)\n",
      "%hist\n",
      "%hist\n",
      "%logend\n"
     ]
    }
   ],
   "source": [
    "%hist\n",
    "%logend"
   ]
  },
  {
   "cell_type": "code",
   "execution_count": 17,
   "metadata": {
    "collapsed": false
   },
   "outputs": [
    {
     "name": "stdout",
     "output_type": "stream",
     "text": [
      "[[1 1 1]\n",
      " [1 1 1]]\n",
      "[[1 1 1]\n",
      " [2 2 2]]\n",
      "[[1 2 3]\n",
      " [1 2 3]]\n"
     ]
    },
    {
     "data": {
      "image/png": "[encoded data removed]",
      "text/plain": [
       "<matplotlib.figure.Figure at 0x10d45f4d0>"
      ]
     },
     "metadata": {},
     "output_type": "display_data"
    }
   ],
   "source": [
    "# %pwd\n",
    "# %qtconsole\n",
    "t = np.array([[1,1,1],[1,1,1]])\n",
    "print t\n",
    "# cumsum\n",
    "t.cumsum()\n",
    "# sum of row\n",
    "print t.cumsum(axis=0)\n",
    "# sum of col\n",
    "print t.cumsum(axis = 1)\n",
    "# sum of height\n",
    "# print t.cumsum(axis = 2)\n",
    "from matplotlib import pyplot as plt\n",
    "plt.plot(randn(1000).cumsum())\n",
    "plt.show()"
   ]
  },
  {
   "cell_type": "code",
   "execution_count": 28,
   "metadata": {
    "collapsed": false
   },
   "outputs": [],
   "source": [
    "# refer the imput of line 13 _i13"
   ]
  },
  {
   "cell_type": "code",
   "execution_count": 29,
   "metadata": {
    "collapsed": false
   },
   "outputs": [
    {
     "data": {
      "text/plain": [
       "20"
      ]
     },
     "execution_count": 29,
     "metadata": {},
     "output_type": "execute_result"
    }
   ],
   "source": [
    "2*10\n",
    "# '_' refer the last input"
   ]
  },
  {
   "cell_type": "code",
   "execution_count": 18,
   "metadata": {
    "collapsed": false
   },
   "outputs": [],
   "source": [
    "%logstop #created log file "
   ]
  },
  {
   "cell_type": "code",
   "execution_count": 44,
   "metadata": {
    "collapsed": false
   },
   "outputs": [],
   "source": [
    "#Execute command\n",
    "#%mkdir /Users/jinzegu/Documents/IPython/Log_files\n",
    "%mv /Users/jinzegu/Documents/IPython/ipython_log.py /Users/jinzegu/Documents/IPython/Log_files/"
   ]
  },
  {
   "cell_type": "code",
   "execution_count": 19,
   "metadata": {
    "collapsed": false
   },
   "outputs": [
    {
     "data": {
      "text/plain": [
       "'inet 192.168.1.163 netmask 0xffffff00 broadcast 192.168.1.255'"
      ]
     },
     "execution_count": 19,
     "metadata": {},
     "output_type": "execute_result"
    }
   ],
   "source": [
    "# Run the shell command and store it in a var\n",
    "IP = !ifconfig en1| grep \"inet\"\n",
    "ip_str = IP[1]\n",
    "ip_str.strip()"
   ]
  },
  {
   "cell_type": "code",
   "execution_count": 23,
   "metadata": {
    "collapsed": false
   },
   "outputs": [
    {
     "name": "stdout",
     "output_type": "stream",
     "text": [
      "Entertainment_center.py fresh_tomatoes.py       media_inherited.py\r\n"
     ]
    }
   ],
   "source": [
    "# Substitute python variable in shell env\n",
    "a = \"*.py\"\n",
    "!ls $a"
   ]
  },
  {
   "cell_type": "code",
   "execution_count": 24,
   "metadata": {
    "collapsed": false
   },
   "outputs": [
    {
     "name": "stdout",
     "output_type": "stream",
     "text": [
      "/Users/jinzegu\n",
      "(bookmark:main) -> /Users/jinzegu/Documents/IPython/\n",
      "/Users/jinzegu/Documents/IPython\n"
     ]
    }
   ],
   "source": [
    "# Use bookmark\n",
    "%bookmark main /Users/jinzegu/Documents/IPython/\n",
    "%cd\n",
    "%pwd\n",
    "%cd main\n",
    "%pwd\n",
    "%bookmark desktop /Users/jinzegu/Desktop/"
   ]
  },
  {
   "cell_type": "code",
   "execution_count": 86,
   "metadata": {
    "collapsed": false
   },
   "outputs": [
    {
     "name": "stdout",
     "output_type": "stream",
     "text": [
      "(bookmark:desktop) -> /Users/jinzegu/Desktop/\n",
      "/Users/jinzegu/Desktop\n"
     ]
    },
    {
     "data": {
      "image/png": "[encoded data removed]",
      "text/plain": [
       "<matplotlib.figure.Figure at 0x1094de310>"
      ]
     },
     "metadata": {},
     "output_type": "display_data"
    },
    {
     "data": {
      "image/png": "[encoded data removed]",
      "text/plain": [
       "<matplotlib.figure.Figure at 0x10cd4b610>"
      ]
     },
     "metadata": {},
     "output_type": "display_data"
    },
    {
     "name": "stdout",
     "output_type": "stream",
     "text": [
      "(bookmark:main) -> /Users/jinzegu/Documents/IPython/\n",
      "/Users/jinzegu/Documents/IPython\n"
     ]
    }
   ],
   "source": [
    "# Can input %debug after exception and run the %pdb debugging process\n",
    "% cd desktop\n",
    "from matplotlib import pyplot as plt\n",
    "from matplotlib import image as mpig\n",
    "img = mpig.imread(\"Debug_cheatsheet.png\")\n",
    "plt.figure(figsize=(12,10))\n",
    "plt.imshow(img)\n",
    "plt.show()\n",
    "% cd main"
   ]
  },
  {
   "cell_type": "code",
   "execution_count": 25,
   "metadata": {
    "collapsed": false
   },
   "outputs": [
    {
     "name": "stdout",
     "output_type": "stream",
     "text": [
      " "
     ]
    }
   ],
   "source": [
    "# profiling function\n",
    "\n",
    "%run -p -s cumulative Entertainment_center.py\n",
    "\n",
    "# %prun python statement"
   ]
  },
  {
   "cell_type": "code",
   "execution_count": 43,
   "metadata": {
    "collapsed": false
   },
   "outputs": [],
   "source": [
    "# line by line profiling\n",
    "import numpy as np\n",
    "\n",
    "def added_and_summed(x,y):\n",
    "    added = x + y\n",
    "    summed = added.sum(axis = 1)\n",
    "    return summed\n",
    "\n",
    "def call_function(n):\n",
    "    x = np.random.randn(n, n)\n",
    "    y = np.random.randn(n, n)\n",
    "    return added_and_summed(x,y)"
   ]
  },
  {
   "cell_type": "code",
   "execution_count": 44,
   "metadata": {
    "collapsed": false
   },
   "outputs": [
    {
     "data": {
      "text/plain": [
       "array([-0.74742095,  1.23900528,  8.75056856, -2.69171364, -6.21602352,\n",
       "        0.55750834,  4.47727463,  2.8704658 , -6.55690305, -4.25737681])"
      ]
     },
     "execution_count": 44,
     "metadata": {},
     "output_type": "execute_result"
    }
   ],
   "source": [
    "call_function(10)"
   ]
  },
  {
   "cell_type": "code",
   "execution_count": 52,
   "metadata": {
    "collapsed": false
   },
   "outputs": [],
   "source": [
    "# prun the function\n",
    "# %prun call_function(1000)\n",
    "\n",
    "# line by line prun function\n",
    "import line_profiler\n",
    "# %load_ext line_profiler\n",
    "%lprun -f added_and_summed -f call_function call_function(5000)"
   ]
  },
  {
   "cell_type": "code",
   "execution_count": 38,
   "metadata": {
    "collapsed": false,
    "scrolled": true
   },
   "outputs": [
    {
     "name": "stdout",
     "output_type": "stream",
     "text": [
      "Once deleted, variables cannot be recovered. Proceed (y/[n])? y\n"
     ]
    }
   ],
   "source": [
    "%reset"
   ]
  },
  {
   "cell_type": "code",
   "execution_count": null,
   "metadata": {
    "collapsed": true
   },
   "outputs": [],
   "source": [
    "# Chapter 2: Numpy"
   ]
  },
  {
   "cell_type": "code",
   "execution_count": 69,
   "metadata": {
    "collapsed": false
   },
   "outputs": [
    {
     "name": "stdout",
     "output_type": "stream",
     "text": [
      "[[-0.44618359  0.48988095  0.97530097]\n",
      " [-1.54815039 -0.19418928  0.00354577]\n",
      " [-0.32707794 -0.38295543 -0.39275057]\n",
      " [ 0.07022797 -0.29741992 -0.47348089]\n",
      " [-1.18735083 -0.41247107 -0.75032856]]\n",
      "(5, 3)\n",
      "float64\n",
      "[[-0.44618359  0.48988095  0.97530097]\n",
      " [-0.32707794 -0.38295543 -0.39275057]\n",
      " [-1.18735083 -0.41247107 -0.75032856]]\n"
     ]
    }
   ],
   "source": [
    "data = np.random.randn(5,3)\n",
    "print data\n",
    "print data.shape\n",
    "print data.dtype\n",
    "print data[0:5:2,]"
   ]
  },
  {
   "cell_type": "code",
   "execution_count": 72,
   "metadata": {
    "collapsed": false
   },
   "outputs": [
    {
     "name": "stdout",
     "output_type": "stream",
     "text": [
      "[-0.44618359 -0.19418928 -0.39275057]\n",
      "-0.446183585349 -0.194189275352 -0.392750569931\n"
     ]
    }
   ],
   "source": [
    "print data.diagonal()\n",
    "print data[0,0], data[1,1], data[2,2]"
   ]
  },
  {
   "cell_type": "code",
   "execution_count": 155,
   "metadata": {
    "collapsed": false
   },
   "outputs": [
    {
     "name": "stdout",
     "output_type": "stream",
     "text": [
      "[[  1   3   5   7   9]\n",
      " [ 11  13  15  17  19]\n",
      " [ 21  23  25  27  29]\n",
      " [ 31  33  35  37  39]\n",
      " [ 41  43  45  47  49]\n",
      " [ 51  53  55  57  59]\n",
      " [ 61  63  65  67  69]\n",
      " [ 71  73  75  77  79]\n",
      " [ 81  83  85  87  89]\n",
      " [ 91  93  95  97  99]\n",
      " [101 103 105 107 109]\n",
      " [111 113 115 117 119]\n",
      " [121 123 125 127 129]\n",
      " [131 133 135 137 139]\n",
      " [141 143 145 147 149]]\n"
     ]
    },
    {
     "data": {
      "text/plain": [
       "array([[ 1.,  0.,  0.,  0.,  0.,  0.,  0.,  0.,  0.,  0.],\n",
       "       [ 0.,  1.,  0.,  0.,  0.,  0.,  0.,  0.,  0.,  0.],\n",
       "       [ 0.,  0.,  1.,  0.,  0.,  0.,  0.,  0.,  0.,  0.],\n",
       "       [ 0.,  0.,  0.,  1.,  0.,  0.,  0.,  0.,  0.,  0.],\n",
       "       [ 0.,  0.,  0.,  0.,  1.,  0.,  0.,  0.,  0.,  0.],\n",
       "       [ 0.,  0.,  0.,  0.,  0.,  1.,  0.,  0.,  0.,  0.],\n",
       "       [ 0.,  0.,  0.,  0.,  0.,  0.,  1.,  0.,  0.,  0.],\n",
       "       [ 0.,  0.,  0.,  0.,  0.,  0.,  0.,  1.,  0.,  0.],\n",
       "       [ 0.,  0.,  0.,  0.,  0.,  0.,  0.,  0.,  1.,  0.],\n",
       "       [ 0.,  0.,  0.,  0.,  0.,  0.,  0.,  0.,  0.,  1.]])"
      ]
     },
     "execution_count": 155,
     "metadata": {},
     "output_type": "execute_result"
    }
   ],
   "source": [
    "# Create arrays using zeros, ones, empties,\n",
    "np.zeros((5,4))\n",
    "np.ones([5,4])\n",
    "np.empty([3,2,2])\n",
    "\n",
    "\n",
    "np.ones_like(data) # takes another array\n",
    "\n",
    "b = [1,2,3,4,5,6] # converts list to array\n",
    "np.asarray(b)\n",
    "\n",
    "print np.arange(1,150,2).reshape(15,5) # start, stop, skip\n",
    "\n",
    "np.eye(10)"
   ]
  },
  {
   "cell_type": "code",
   "execution_count": 102,
   "metadata": {
    "collapsed": false
   },
   "outputs": [
    {
     "name": "stdout",
     "output_type": "stream",
     "text": [
      "float64\n"
     ]
    },
    {
     "data": {
      "text/plain": [
       "array([['0.149884416686', '-0.526008788135', '-0.963707128812',\n",
       "        '-2.06072072478', '1.53764146948', '1.27293216576',\n",
       "        '-1.00563395707'],\n",
       "       ['0.385767940096', '-0.334099500969', '2.15387393401',\n",
       "        '-0.0237790664823', '1.21710769069', '-2.37969396382',\n",
       "        '-0.486022606217'],\n",
       "       ['-1.1170416141', '-1.0133137273', '-0.859271130957',\n",
       "        '0.519067777274', '0.865922323732', '-0.162624135139',\n",
       "        '0.708639434242'],\n",
       "       ['2.38128369519', '1.59677880803', '-0.644106288797',\n",
       "        '-0.470251707527', '-1.60149974598', '-1.82512070382',\n",
       "        '-0.428092590349'],\n",
       "       ['-1.34450500812', '-0.233985023548', '-0.130581136476',\n",
       "        '2.069538705', '0.483341986582', '-0.522673413674',\n",
       "        '-0.396571948844'],\n",
       "       ['0.58573987461', '1.05260323097', '1.02988925466',\n",
       "        '0.0609937601077', '-0.748449312963', '0.0830425807144',\n",
       "        '0.0940945529363'],\n",
       "       ['-0.545164649982', '-1.41044189492', '1.41726619857',\n",
       "        '0.808482880578', '-0.297990622631', '-0.502758529475',\n",
       "        '-0.722997172988'],\n",
       "       ['-0.0486887537428', '-0.372653268624', '1.35322922275',\n",
       "        '-0.841047218427', '-0.00947049743537', '0.350876308466',\n",
       "        '0.731718163084']], \n",
       "      dtype='|S32')"
      ]
     },
     "execution_count": 102,
     "metadata": {},
     "output_type": "execute_result"
    }
   ],
   "source": [
    "# covert data type\n",
    "arr = np.random.randn(8,7)\n",
    "print arr.dtype\n",
    "arr = arr.astype(np.string_)\n",
    "arr"
   ]
  },
  {
   "cell_type": "code",
   "execution_count": 107,
   "metadata": {
    "collapsed": false
   },
   "outputs": [
    {
     "name": "stdout",
     "output_type": "stream",
     "text": [
      "[    31     34 123124     40     43]\n",
      "[     1      4      7     10     13     16     19     22     25     28\n",
      "     31     34 123124     40     43     46     49     52     55     58\n",
      "     61     64     67     70     73     76     79     82     85     88\n",
      "     91     94     97]\n"
     ]
    }
   ],
   "source": [
    "# array slice is a view of original array\n",
    "b = np.arange(1,100,3)\n",
    "b_slice = b[10:15]\n",
    "b_slice[2] = 123124\n",
    "print b_slice\n",
    "print b"
   ]
  },
  {
   "cell_type": "code",
   "execution_count": 124,
   "metadata": {
    "collapsed": false
   },
   "outputs": [
    {
     "name": "stdout",
     "output_type": "stream",
     "text": [
      "[4 5 6]\n",
      "3\n",
      "(2, 2, 3)\n"
     ]
    },
    {
     "data": {
      "text/plain": [
       "array([7, 8, 9])"
      ]
     },
     "execution_count": 124,
     "metadata": {},
     "output_type": "execute_result"
    }
   ],
   "source": [
    "# higher dimensional array\n",
    "arr2d = np.array([[1, 2, 3], [4, 5, 6], [7, 8, 9]])\n",
    "print arr2d[1,]\n",
    "print arr2d[0,2]\n",
    "\n",
    "arr3d = np.array([[[1, 2, 3], [4, 5, 6]], [[7, 8, 9], [10, 11, 12]]])\n",
    "print arr3d.shape\n",
    "arr3d[1,0]"
   ]
  },
  {
   "cell_type": "code",
   "execution_count": 147,
   "metadata": {
    "collapsed": false
   },
   "outputs": [
    {
     "name": "stdout",
     "output_type": "stream",
     "text": [
      "[[-0.44618359  0.48988095  0.97530097]\n",
      " [-1.54815039 -0.19418928  0.00354577]\n",
      " [-0.32707794 -0.38295543 -0.39275057]\n",
      " [ 0.07022797 -0.29741992 -0.47348089]\n",
      " [-1.18735083 -0.41247107 -0.75032856]]\n",
      "[[-0.44618359  0.48988095]\n",
      " [ 0.07022797 -0.29741992]]\n",
      "[ 0.00354577 -0.39275057 -0.75032856]\n",
      "[[-0.44618359  0.48988095  0.97530097]\n",
      " [-1.54815039 -0.19418928  0.00354577]\n",
      " [ 0.07022797 -0.29741992 -0.47348089]]\n"
     ]
    }
   ],
   "source": [
    "# higher dimension slices\n",
    "arr2d[:,:2]\n",
    "\n",
    "print data\n",
    "# boolean slicing NOTE: selecting arrays by boolean selection always create a copy of the data\n",
    "names = ['Bob', 'Sb', '2huo','Bob','Jimmy']\n",
    "names = np.asarray(names)\n",
    "names == 'Bob'\n",
    "\n",
    "print data[names == 'Bob', :2]\n",
    "print data[names != 'Bob',2]\n",
    "\n",
    "print data[(names == 'Bob')|(names == 'Sb'),]"
   ]
  },
  {
   "cell_type": "code",
   "execution_count": 161,
   "metadata": {
    "collapsed": false
   },
   "outputs": [
    {
     "name": "stdout",
     "output_type": "stream",
     "text": [
      "[[ 0.  0.  0.]\n",
      " [ 1.  1.  1.]\n",
      " [ 2.  2.  2.]\n",
      " [ 3.  3.  3.]\n",
      " [ 4.  4.  4.]]\n",
      "[[ 4.  4.  4.]\n",
      " [ 2.  2.  2.]\n",
      " [ 0.  0.  0.]\n",
      " [ 1.  1.  1.]]\n",
      "[[ 4.  4.  4.]\n",
      " [ 3.  3.  3.]\n",
      " [ 2.  2.  2.]]\n",
      "fancy selection with 2 input indices\n",
      "[[ 0  1  2  3]\n",
      " [ 4  5  6  7]\n",
      " [ 8  9 10 11]\n",
      " [12 13 14 15]\n",
      " [16 17 18 19]\n",
      " [20 21 22 23]\n",
      " [24 25 26 27]\n",
      " [28 29 30 31]]\n",
      "[ 4 23 29 10]\n",
      "[[ 4  7  5  6]\n",
      " [20 23 21 22]\n",
      " [28 31 29 30]\n",
      " [ 8 11  9 10]]\n",
      "[[ 4  7  5  6]\n",
      " [20 23 21 22]\n",
      " [28 31 29 30]\n",
      " [ 8 11  9 10]]\n"
     ]
    }
   ],
   "source": [
    "data[data < 0 ] = 0\n",
    "print data\n",
    "for i in range(5):\n",
    "    data[i] = i\n",
    "data\n",
    "\n",
    "# select re-arranged order of rows\n",
    "print data[[4,2,0,1]]\n",
    "print data[[-1,-2,-3]]\n",
    "\n",
    "print \"fancy selection with 2 input indices\"\n",
    "arr = np.arange(32).reshape((8,4))\n",
    "print arr\n",
    "print arr[[1,5,7,2],[0,3,1,2]]\n",
    "print arr[[1,5,7,2]][:,[0,3,1,2]]\n",
    "print arr[np.ix_([1,5,7,2],[0,3,1,2])]"
   ]
  },
  {
   "cell_type": "code",
   "execution_count": 169,
   "metadata": {
    "collapsed": false
   },
   "outputs": [
    {
     "name": "stdout",
     "output_type": "stream",
     "text": [
      "[[ 0.  1.  2.  3.  4.]\n",
      " [ 0.  1.  2.  3.  4.]\n",
      " [ 0.  1.  2.  3.  4.]]\n",
      "[[ 0.  1.  2.  3.  4.]\n",
      " [ 0.  1.  2.  3.  4.]\n",
      " [ 0.  1.  2.  3.  4.]]\n",
      "[[ 0.  1.  2.  3.  4.]\n",
      " [ 0.  1.  2.  3.  4.]\n",
      " [ 0.  1.  2.  3.  4.]]\n",
      "[[[ 1  2  3]\n",
      "  [ 4  5  6]]\n",
      "\n",
      " [[ 7  8  9]\n",
      "  [10 11 12]]]\n"
     ]
    },
    {
     "data": {
      "text/plain": [
       "array([[ 30.,  30.,  30.],\n",
       "       [ 30.,  30.,  30.],\n",
       "       [ 30.,  30.,  30.]])"
      ]
     },
     "execution_count": 169,
     "metadata": {},
     "output_type": "execute_result"
    }
   ],
   "source": [
    "# Different functions of arrays\n",
    "\n",
    "# Transpose\n",
    "print data.transpose()\n",
    "print data.T\n",
    "print data.swapaxes(0,1)\n",
    "print arr3d.transpose(0,1,2)\n",
    "\n",
    "np.dot(data.T, data)"
   ]
  },
  {
   "cell_type": "code",
   "execution_count": 175,
   "metadata": {
    "collapsed": false
   },
   "outputs": [
    {
     "ename": "SyntaxError",
     "evalue": "can't assign to function call (<ipython-input-175-7795ba6737f7>, line 4)",
     "output_type": "error",
     "traceback": [
      "\u001b[0;36m  File \u001b[0;32m\"<ipython-input-175-7795ba6737f7>\"\u001b[0;36m, line \u001b[0;32m4\u001b[0m\n\u001b[0;31m    x = randn(10), y = randn(10)\u001b[0m\n\u001b[0;31mSyntaxError\u001b[0m\u001b[0;31m:\u001b[0m can't assign to function call\n"
     ]
    }
   ],
   "source": [
    "# Universal function\n",
    "from numpy.random import randn\n",
    "\n",
    "x = randn(10), y = randn(10)\n",
    "print np.maximum(x, y)\n",
    "x"
   ]
  },
  {
   "cell_type": "code",
   "execution_count": null,
   "metadata": {
    "collapsed": true
   },
   "outputs": [],
   "source": []
  }
 ],
 "metadata": {
  "kernelspec": {
   "display_name": "Python 2",
   "language": "python",
   "name": "python2"
  },
  "language_info": {
   "codemirror_mode": {
    "name": "ipython",
    "version": 2
   },
   "file_extension": ".py",
   "mimetype": "text/x-python",
   "name": "python",
   "nbconvert_exporter": "python",
   "pygments_lexer": "ipython2",
   "version": "2.7.13"
  }
 },
 "nbformat": 4,
 "nbformat_minor": 2
}
