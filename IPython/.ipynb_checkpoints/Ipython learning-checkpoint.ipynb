{
 "cells": [
  {
   "cell_type": "markdown",
   "metadata": {
    "collapsed": true
   },
   "source": [
    "# Chapter 1: Basic IPython"
   ]
  },
  {
   "cell_type": "code",
   "execution_count": 3,
   "metadata": {
    "collapsed": false
   },
   "outputs": [
    {
     "name": "stdout",
     "output_type": "stream",
     "text": [
      "Activating auto-logging. Current session state plus future input saved.\n",
      "Filename       : #created log file to record the entire session\n",
      "Mode           : backup\n",
      "Output logging : False\n",
      "Raw input log  : False\n",
      "Timestamping   : False\n",
      "State          : active\n"
     ]
    }
   ],
   "source": [
    "%logstart #created log file to record the entire session\n",
    "from numpy.random import randn"
   ]
  },
  {
   "cell_type": "code",
   "execution_count": 4,
   "metadata": {
    "collapsed": false
   },
   "outputs": [],
   "source": [
    "data = {i : randn() for i in range(7)}"
   ]
  },
  {
   "cell_type": "code",
   "execution_count": 5,
   "metadata": {
    "collapsed": false
   },
   "outputs": [
    {
     "name": "stdout",
     "output_type": "stream",
     "text": [
      "{0: 1.077956425003969, 1: 1.2048492596017528, 2: -0.46731560889008367, 3: -0.7587117087822294, 4: 1.030889665344266, 5: 0.15942863925884085, 6: -1.2407430659449934}\n"
     ]
    }
   ],
   "source": [
    "print data"
   ]
  },
  {
   "cell_type": "code",
   "execution_count": 6,
   "metadata": {
    "collapsed": false
   },
   "outputs": [],
   "source": [
    "an_apple = 1.12321\n",
    "an_pear = 1321.123"
   ]
  },
  {
   "cell_type": "code",
   "execution_count": 7,
   "metadata": {
    "collapsed": true
   },
   "outputs": [],
   "source": [
    "an_apple?"
   ]
  },
  {
   "cell_type": "code",
   "execution_count": 8,
   "metadata": {
    "collapsed": true
   },
   "outputs": [],
   "source": [
    "# %run any .py code on the ipython "
   ]
  },
  {
   "cell_type": "code",
   "execution_count": 9,
   "metadata": {
    "collapsed": false
   },
   "outputs": [],
   "source": [
    "%run Entertainment_center"
   ]
  },
  {
   "cell_type": "code",
   "execution_count": 10,
   "metadata": {
    "collapsed": false
   },
   "outputs": [],
   "source": [
    "import webbrowser\n",
    "import time\n",
    "\n",
    "def take_break(x):\n",
    "    \"\"\"Take INPUT number of breaks by watching STEPHEN CURRY highlight!!\"\"\"\n",
    "    i = 1\n",
    "    total_breaks = x\n",
    "    print(\"This program starts at\"+time.ctime())\n",
    "    while (i <= total_breaks):\n",
    "        time.sleep(2)\n",
    "        webbrowser.open(\"https://www.youtube.com/watch?v=SevHZgBnfF0\")\n",
    "        i = i+1\n",
    "    print (\"number of breaking time:\"+str(i-1))"
   ]
  },
  {
   "cell_type": "code",
   "execution_count": 11,
   "metadata": {
    "collapsed": false
   },
   "outputs": [],
   "source": [
    "take_break?"
   ]
  },
  {
   "cell_type": "code",
   "execution_count": 12,
   "metadata": {
    "collapsed": true
   },
   "outputs": [],
   "source": [
    "# Magic command: any command starting with %"
   ]
  },
  {
   "cell_type": "code",
   "execution_count": 13,
   "metadata": {
    "collapsed": false
   },
   "outputs": [],
   "source": [
    "import numpy as np\n",
    "a = np.random.randn(100,100)"
   ]
  },
  {
   "cell_type": "code",
   "execution_count": 14,
   "metadata": {
    "collapsed": false
   },
   "outputs": [
    {
     "name": "stdout",
     "output_type": "stream",
     "text": [
      "The slowest run took 3713.84 times longer than the fastest. This could mean that an intermediate result is being cached.\n",
      "1 loop, best of 3: 119 µs per loop\n"
     ]
    }
   ],
   "source": [
    "%timeit np.dot(a,a)"
   ]
  },
  {
   "cell_type": "code",
   "execution_count": 15,
   "metadata": {
    "collapsed": false
   },
   "outputs": [],
   "source": [
    "# %reset"
   ]
  },
  {
   "cell_type": "code",
   "execution_count": null,
   "metadata": {
    "collapsed": true
   },
   "outputs": [],
   "source": [
    "%hist"
   ]
  },
  {
   "cell_type": "code",
   "execution_count": 17,
   "metadata": {
    "collapsed": false
   },
   "outputs": [
    {
     "name": "stdout",
     "output_type": "stream",
     "text": [
      "[[1 1 1]\n",
      " [1 1 1]]\n",
      "[[1 1 1]\n",
      " [2 2 2]]\n",
      "[[1 2 3]\n",
      " [1 2 3]]\n"
     ]
    },
    {
     "data": {
      "image/png": "[encoded data removed]",
      "text/plain": [
       "<matplotlib.figure.Figure at 0x10d45f4d0>"
      ]
     },
     "metadata": {},
     "output_type": "display_data"
    }
   ],
   "source": [
    "# %pwd\n",
    "# %qtconsole\n",
    "t = np.array([[1,1,1],[1,1,1]])\n",
    "print t\n",
    "# cumsum\n",
    "t.cumsum()\n",
    "# sum of row\n",
    "print t.cumsum(axis=0)\n",
    "# sum of col\n",
    "print t.cumsum(axis = 1)\n",
    "# sum of height\n",
    "# print t.cumsum(axis = 2)\n",
    "from matplotlib import pyplot as plt\n",
    "plt.plot(randn(1000).cumsum())\n",
    "plt.show()"
   ]
  },
  {
   "cell_type": "code",
   "execution_count": 28,
   "metadata": {
    "collapsed": false
   },
   "outputs": [],
   "source": [
    "# refer the imput of line 13 _i13"
   ]
  },
  {
   "cell_type": "code",
   "execution_count": 29,
   "metadata": {
    "collapsed": false
   },
   "outputs": [
    {
     "data": {
      "text/plain": [
       "20"
      ]
     },
     "execution_count": 29,
     "metadata": {},
     "output_type": "execute_result"
    }
   ],
   "source": [
    "2*10\n",
    "# '_' refer the last input"
   ]
  },
  {
   "cell_type": "code",
   "execution_count": 18,
   "metadata": {
    "collapsed": false
   },
   "outputs": [],
   "source": [
    "%logstop #created log file "
   ]
  },
  {
   "cell_type": "code",
   "execution_count": 44,
   "metadata": {
    "collapsed": false
   },
   "outputs": [],
   "source": [
    "#Execute command\n",
    "#%mkdir /Users/jinzegu/Documents/IPython/Log_files\n",
    "%mv /Users/jinzegu/Documents/IPython/ipython_log.py /Users/jinzegu/Documents/IPython/Log_files/"
   ]
  },
  {
   "cell_type": "code",
   "execution_count": 19,
   "metadata": {
    "collapsed": false
   },
   "outputs": [
    {
     "data": {
      "text/plain": [
       "'inet 192.168.1.163 netmask 0xffffff00 broadcast 192.168.1.255'"
      ]
     },
     "execution_count": 19,
     "metadata": {},
     "output_type": "execute_result"
    }
   ],
   "source": [
    "# Run the shell command and store it in a var\n",
    "IP = !ifconfig en1| grep \"inet\"\n",
    "ip_str = IP[1]\n",
    "ip_str.strip()"
   ]
  },
  {
   "cell_type": "code",
   "execution_count": 23,
   "metadata": {
    "collapsed": false
   },
   "outputs": [
    {
     "name": "stdout",
     "output_type": "stream",
     "text": [
      "Entertainment_center.py fresh_tomatoes.py       media_inherited.py\r\n"
     ]
    }
   ],
   "source": [
    "# Substitute python variable in shell env\n",
    "a = \"*.py\"\n",
    "!ls $a"
   ]
  },
  {
   "cell_type": "code",
   "execution_count": 24,
   "metadata": {
    "collapsed": false
   },
   "outputs": [
    {
     "name": "stdout",
     "output_type": "stream",
     "text": [
      "/Users/jinzegu\n",
      "(bookmark:main) -> /Users/jinzegu/Documents/IPython/\n",
      "/Users/jinzegu/Documents/IPython\n"
     ]
    }
   ],
   "source": [
    "# Use bookmark\n",
    "%bookmark main /Users/jinzegu/Documents/IPython/\n",
    "%cd\n",
    "%pwd\n",
    "%cd main\n",
    "%pwd\n",
    "%bookmark desktop /Users/jinzegu/Desktop/"
   ]
  },
  {
   "cell_type": "code",
   "execution_count": 86,
   "metadata": {
    "collapsed": false
   },
   "outputs": [
    {
     "name": "stdout",
     "output_type": "stream",
     "text": [
      "(bookmark:desktop) -> /Users/jinzegu/Desktop/\n",
      "/Users/jinzegu/Desktop\n"
     ]
    },
    {
     "data": {
      "image/png": "[encoded data removed]",
      "text/plain": [
       "<matplotlib.figure.Figure at 0x1094de310>"
      ]
     },
     "metadata": {},
     "output_type": "display_data"
    },
    {
     "data": {
      "image/png": "[encoded data removed]",
      "text/plain": [
       "<matplotlib.figure.Figure at 0x10cd4b610>"
      ]
     },
     "metadata": {},
     "output_type": "display_data"
    },
    {
     "name": "stdout",
     "output_type": "stream",
     "text": [
      "(bookmark:main) -> /Users/jinzegu/Documents/IPython/\n",
      "/Users/jinzegu/Documents/IPython\n"
     ]
    }
   ],
   "source": [
    "# Can input %debug after exception and run the %pdb debugging process\n",
    "% cd desktop\n",
    "from matplotlib import pyplot as plt\n",
    "from matplotlib import image as mpig\n",
    "img = mpig.imread(\"Debug_cheatsheet.png\")\n",
    "plt.figure(figsize=(12,10))\n",
    "plt.imshow(img)\n",
    "plt.show()\n",
    "% cd main"
   ]
  },
  {
   "cell_type": "code",
   "execution_count": 25,
   "metadata": {
    "collapsed": false
   },
   "outputs": [
    {
     "name": "stdout",
     "output_type": "stream",
     "text": [
      " "
     ]
    }
   ],
   "source": [
    "# profiling function\n",
    "\n",
    "%run -p -s cumulative Entertainment_center.py\n",
    "\n",
    "# %prun python statement"
   ]
  },
  {
   "cell_type": "code",
   "execution_count": 1,
   "metadata": {
    "collapsed": false
   },
   "outputs": [],
   "source": [
    "# line by line profiling\n",
    "import numpy as np\n",
    "\n",
    "def added_and_summed(x,y):\n",
    "    added = x + y\n",
    "    summed = added.sum(axis = 1)\n",
    "    return summed\n",
    "\n",
    "def call_function(n):\n",
    "    x = np.random.randn(n, n)\n",
    "    y = np.random.randn(n, n)\n",
    "    return added_and_summed(x,y)"
   ]
  },
  {
   "cell_type": "code",
   "execution_count": 44,
   "metadata": {
    "collapsed": false
   },
   "outputs": [
    {
     "data": {
      "text/plain": [
       "array([-0.74742095,  1.23900528,  8.75056856, -2.69171364, -6.21602352,\n",
       "        0.55750834,  4.47727463,  2.8704658 , -6.55690305, -4.25737681])"
      ]
     },
     "execution_count": 44,
     "metadata": {},
     "output_type": "execute_result"
    }
   ],
   "source": [
    "call_function(10)"
   ]
  },
  {
   "cell_type": "code",
   "execution_count": 4,
   "metadata": {
    "collapsed": false
   },
   "outputs": [],
   "source": [
    "# prun the function\n",
    "# %prun call_function(1000)\n",
    "\n",
    "# line by line prun function\n",
    "import line_profiler\n",
    "\n",
    "# Very IMPORTANT to load the extension\n",
    "%load_ext line_profiler\n",
    "%lprun -f added_and_summed -f call_function call_function(5000)"
   ]
  },
  {
   "cell_type": "code",
   "execution_count": 38,
   "metadata": {
    "collapsed": false,
    "scrolled": true
   },
   "outputs": [
    {
     "name": "stdout",
     "output_type": "stream",
     "text": [
      "Once deleted, variables cannot be recovered. Proceed (y/[n])? y\n"
     ]
    }
   ],
   "source": [
    "%reset"
   ]
  },
  {
   "cell_type": "markdown",
   "metadata": {
    "collapsed": true
   },
   "source": [
    "# Chapter 2: Numpy"
   ]
  },
  {
   "cell_type": "code",
   "execution_count": 10,
   "metadata": {
    "collapsed": false
   },
   "outputs": [
    {
     "name": "stdout",
     "output_type": "stream",
     "text": [
      "[[ 0.93445017 -1.51257988  0.4155287 ]\n",
      " [-1.08417905 -1.01040936  0.28998067]\n",
      " [ 0.09873351 -0.78903349  0.88503244]\n",
      " [ 0.09966648 -0.92312943 -0.02507859]\n",
      " [-1.19847075 -1.48196082  0.5422027 ]]\n",
      "(5, 3)\n",
      "float64\n",
      "[[ 0.93445017 -1.51257988  0.4155287 ]\n",
      " [ 0.09873351 -0.78903349  0.88503244]\n",
      " [-1.19847075 -1.48196082  0.5422027 ]]\n"
     ]
    }
   ],
   "source": [
    "data = np.random.randn(5,3)\n",
    "print data\n",
    "print data.shape\n",
    "print data.dtype\n",
    "print data[0:5:2,]"
   ]
  },
  {
   "cell_type": "code",
   "execution_count": 72,
   "metadata": {
    "collapsed": false
   },
   "outputs": [
    {
     "name": "stdout",
     "output_type": "stream",
     "text": [
      "[-0.44618359 -0.19418928 -0.39275057]\n",
      "-0.446183585349 -0.194189275352 -0.392750569931\n"
     ]
    }
   ],
   "source": [
    "print data.diagonal()\n",
    "print data[0,0], data[1,1], data[2,2]\n"
   ]
  },
  {
   "cell_type": "code",
   "execution_count": 155,
   "metadata": {
    "collapsed": false
   },
   "outputs": [
    {
     "name": "stdout",
     "output_type": "stream",
     "text": [
      "[[  1   3   5   7   9]\n",
      " [ 11  13  15  17  19]\n",
      " [ 21  23  25  27  29]\n",
      " [ 31  33  35  37  39]\n",
      " [ 41  43  45  47  49]\n",
      " [ 51  53  55  57  59]\n",
      " [ 61  63  65  67  69]\n",
      " [ 71  73  75  77  79]\n",
      " [ 81  83  85  87  89]\n",
      " [ 91  93  95  97  99]\n",
      " [101 103 105 107 109]\n",
      " [111 113 115 117 119]\n",
      " [121 123 125 127 129]\n",
      " [131 133 135 137 139]\n",
      " [141 143 145 147 149]]\n"
     ]
    },
    {
     "data": {
      "text/plain": [
       "array([[ 1.,  0.,  0.,  0.,  0.,  0.,  0.,  0.,  0.,  0.],\n",
       "       [ 0.,  1.,  0.,  0.,  0.,  0.,  0.,  0.,  0.,  0.],\n",
       "       [ 0.,  0.,  1.,  0.,  0.,  0.,  0.,  0.,  0.,  0.],\n",
       "       [ 0.,  0.,  0.,  1.,  0.,  0.,  0.,  0.,  0.,  0.],\n",
       "       [ 0.,  0.,  0.,  0.,  1.,  0.,  0.,  0.,  0.,  0.],\n",
       "       [ 0.,  0.,  0.,  0.,  0.,  1.,  0.,  0.,  0.,  0.],\n",
       "       [ 0.,  0.,  0.,  0.,  0.,  0.,  1.,  0.,  0.,  0.],\n",
       "       [ 0.,  0.,  0.,  0.,  0.,  0.,  0.,  1.,  0.,  0.],\n",
       "       [ 0.,  0.,  0.,  0.,  0.,  0.,  0.,  0.,  1.,  0.],\n",
       "       [ 0.,  0.,  0.,  0.,  0.,  0.,  0.,  0.,  0.,  1.]])"
      ]
     },
     "execution_count": 155,
     "metadata": {},
     "output_type": "execute_result"
    }
   ],
   "source": [
    "# Create arrays using zeros, ones, empties,\n",
    "np.zeros((5,4))\n",
    "np.ones([5,4])\n",
    "np.empty([3,2,2])\n",
    "\n",
    "\n",
    "np.ones_like(data) # takes another array\n",
    "\n",
    "b = [1,2,3,4,5,6] # converts list to array\n",
    "np.asarray(b)\n",
    "\n",
    "print np.arange(1,150,2).reshape(15,5) # start, stop, skip\n",
    "\n",
    "np.eye(10) # create a diagonal matrix"
   ]
  },
  {
   "cell_type": "code",
   "execution_count": 102,
   "metadata": {
    "collapsed": false
   },
   "outputs": [
    {
     "name": "stdout",
     "output_type": "stream",
     "text": [
      "float64\n"
     ]
    },
    {
     "data": {
      "text/plain": [
       "array([['0.149884416686', '-0.526008788135', '-0.963707128812',\n",
       "        '-2.06072072478', '1.53764146948', '1.27293216576',\n",
       "        '-1.00563395707'],\n",
       "       ['0.385767940096', '-0.334099500969', '2.15387393401',\n",
       "        '-0.0237790664823', '1.21710769069', '-2.37969396382',\n",
       "        '-0.486022606217'],\n",
       "       ['-1.1170416141', '-1.0133137273', '-0.859271130957',\n",
       "        '0.519067777274', '0.865922323732', '-0.162624135139',\n",
       "        '0.708639434242'],\n",
       "       ['2.38128369519', '1.59677880803', '-0.644106288797',\n",
       "        '-0.470251707527', '-1.60149974598', '-1.82512070382',\n",
       "        '-0.428092590349'],\n",
       "       ['-1.34450500812', '-0.233985023548', '-0.130581136476',\n",
       "        '2.069538705', '0.483341986582', '-0.522673413674',\n",
       "        '-0.396571948844'],\n",
       "       ['0.58573987461', '1.05260323097', '1.02988925466',\n",
       "        '0.0609937601077', '-0.748449312963', '0.0830425807144',\n",
       "        '0.0940945529363'],\n",
       "       ['-0.545164649982', '-1.41044189492', '1.41726619857',\n",
       "        '0.808482880578', '-0.297990622631', '-0.502758529475',\n",
       "        '-0.722997172988'],\n",
       "       ['-0.0486887537428', '-0.372653268624', '1.35322922275',\n",
       "        '-0.841047218427', '-0.00947049743537', '0.350876308466',\n",
       "        '0.731718163084']], \n",
       "      dtype='|S32')"
      ]
     },
     "execution_count": 102,
     "metadata": {},
     "output_type": "execute_result"
    }
   ],
   "source": [
    "# covert data type\n",
    "arr = np.random.randn(8,7)\n",
    "print arr.dtype\n",
    "arr = arr.astype(np.string_)\n",
    "arr"
   ]
  },
  {
   "cell_type": "code",
   "execution_count": 8,
   "metadata": {
    "collapsed": false
   },
   "outputs": [
    {
     "name": "stdout",
     "output_type": "stream",
     "text": [
      "[  1   4   7  10  13  16  19  22  25  28  31  34  37  40  43  46  49  52\n",
      "  55  58  61  64  67  70  73  76  79  82  85  88  91  94  97 100 103 106\n",
      " 109 112 115 118 121 124 127 130 133 136 139 142 145 148]\n",
      "['31' '34' 'Ahahahaha' '40' '43']\n",
      "[     1      4      7     10     13     16     19     22     25     28\n",
      "     31     34     37     40     43     46     49 123456     55     58\n",
      "     61     64     67     70     73     76     79     82     85     88\n",
      "     91     94     97    100    103    106    109    112    115    118\n",
      "    121    124    127    130    133    136    139    142    145    148]\n",
      "[    46     49 123456     55     58]\n"
     ]
    }
   ],
   "source": [
    "# array slice is a view of original array\n",
    "\n",
    "b_slice_2 = b[15:20]\n",
    "b_slice_2[2] = 123456\n",
    "print b\n",
    "print b_slice_2\n",
    "\n",
    "# However, if you change their type then they are totally different\n",
    "b = np.arange(1,150,3)\n",
    "b_slice = b[10:15]\n",
    "b_slice = b_slice.astype(np.string_)\n",
    "b_slice[2] = 'Ahahahaha'\n",
    "print b\n",
    "print b_slice"
   ]
  },
  {
   "cell_type": "code",
   "execution_count": 18,
   "metadata": {
    "collapsed": false
   },
   "outputs": [
    {
     "name": "stdout",
     "output_type": "stream",
     "text": [
      "[4 5 6]\n",
      "3\n",
      "(2, 2, 3)\n"
     ]
    },
    {
     "data": {
      "text/plain": [
       "array([7, 8, 9])"
      ]
     },
     "execution_count": 18,
     "metadata": {},
     "output_type": "execute_result"
    }
   ],
   "source": [
    "# higher dimensional array\n",
    "arr2d = np.array([[1, 2, 3], [4, 5, 6], [7, 8, 9]])\n",
    "print arr2d[1,]\n",
    "print arr2d[0,2]\n",
    "\n",
    "arr3d = np.array([[[1, 2, 3], [4, 5, 6]], [[7, 8, 9], [10, 11, 12]]])\n",
    "print arr3d.shape\n",
    "arr3d[1,0]"
   ]
  },
  {
   "cell_type": "code",
   "execution_count": 147,
   "metadata": {
    "collapsed": false
   },
   "outputs": [
    {
     "name": "stdout",
     "output_type": "stream",
     "text": [
      "[[-0.44618359  0.48988095  0.97530097]\n",
      " [-1.54815039 -0.19418928  0.00354577]\n",
      " [-0.32707794 -0.38295543 -0.39275057]\n",
      " [ 0.07022797 -0.29741992 -0.47348089]\n",
      " [-1.18735083 -0.41247107 -0.75032856]]\n",
      "[[-0.44618359  0.48988095]\n",
      " [ 0.07022797 -0.29741992]]\n",
      "[ 0.00354577 -0.39275057 -0.75032856]\n",
      "[[-0.44618359  0.48988095  0.97530097]\n",
      " [-1.54815039 -0.19418928  0.00354577]\n",
      " [ 0.07022797 -0.29741992 -0.47348089]]\n"
     ]
    }
   ],
   "source": [
    "# higher dimension slices\n",
    "arr2d[:,:2]\n",
    "\n",
    "print data\n",
    "# boolean slicing NOTE: selecting arrays by boolean selection always create a copy of the data\n",
    "names = ['Bob', 'Sb', '2huo','Bob','Jimmy']\n",
    "names = np.asarray(names)\n",
    "names == 'Bob'\n",
    "\n",
    "print data[names == 'Bob', :2]\n",
    "print data[names != 'Bob',2]\n",
    "\n",
    "print data[(names == 'Bob')|(names == 'Sb'),]"
   ]
  },
  {
   "cell_type": "code",
   "execution_count": 16,
   "metadata": {
    "collapsed": false
   },
   "outputs": [
    {
     "name": "stdout",
     "output_type": "stream",
     "text": [
      "[[ 0.  0.  0.]\n",
      " [ 1.  1.  1.]\n",
      " [ 2.  2.  2.]\n",
      " [ 3.  3.  3.]\n",
      " [ 4.  4.  4.]]\n",
      "[[ 4.  4.  4.]\n",
      " [ 2.  2.  2.]\n",
      " [ 0.  0.  0.]\n",
      " [ 1.  1.  1.]]\n",
      "[[ 4.  4.  4.]\n",
      " [ 3.  3.  3.]\n",
      " [ 2.  2.  2.]]\n",
      "fancy selection with 2 input indices\n",
      "[[ 0  1  2  3]\n",
      " [ 4  5  6  7]\n",
      " [ 8  9 10 11]\n",
      " [12 13 14 15]\n",
      " [16 17 18 19]\n",
      " [20 21 22 23]\n",
      " [24 25 26 27]\n",
      " [28 29 30 31]]\n",
      "This gives [1,0], [5,3],[7,1], [2,1] 4 elements\n",
      "[ 4 23 29 10]\n",
      "Re-arranged indices\n",
      "[[ 4  7  5  6]\n",
      " [20 23 21 22]\n",
      " [28 31 29 30]\n",
      " [ 8 11  9 10]]\n",
      "Re-arranged indices using np.ix_ \n",
      "[[ 4  7  5  6]\n",
      " [20 23 21 22]\n",
      " [28 31 29 30]\n",
      " [ 8 11  9 10]]\n"
     ]
    }
   ],
   "source": [
    "data[data < 0 ] = 0\n",
    "print data\n",
    "for i in range(5):\n",
    "    data[i] = i\n",
    "data\n",
    "\n",
    "# select re-arranged order of rows\n",
    "print data[[4,2,0,1]]\n",
    "print data[[-1,-2,-3]]\n",
    "\n",
    "print \"fancy selection with 2 input indices\"\n",
    "arr = np.arange(32).reshape((8,4))\n",
    "print arr\n",
    "\n",
    "print \"This gives [1,0], [5,3],[7,1], [2,1] 4 elements\\n\",arr[[1,5,7,2],[0,3,1,2]]\n",
    "\n",
    "# If you requests a rectangular matrices\n",
    "print \"Re-arranged indices\\n\",arr[[1,5,7,2]][:,[0,3,1,2]]\n",
    "print \"Re-arranged indices using np.ix_ \\n\",arr[np.ix_([1,5,7,2],[0,3,1,2])]"
   ]
  },
  {
   "cell_type": "code",
   "execution_count": 19,
   "metadata": {
    "collapsed": false
   },
   "outputs": [
    {
     "name": "stdout",
     "output_type": "stream",
     "text": [
      "[[ 0.  1.  2.  3.  4.]\n",
      " [ 0.  1.  2.  3.  4.]\n",
      " [ 0.  1.  2.  3.  4.]]\n",
      "[[ 0.  1.  2.  3.  4.]\n",
      " [ 0.  1.  2.  3.  4.]\n",
      " [ 0.  1.  2.  3.  4.]]\n",
      "[[ 0.  1.  2.  3.  4.]\n",
      " [ 0.  1.  2.  3.  4.]\n",
      " [ 0.  1.  2.  3.  4.]]\n",
      "[[[ 1  2  3]\n",
      "  [ 4  5  6]]\n",
      "\n",
      " [[ 7  8  9]\n",
      "  [10 11 12]]]\n"
     ]
    },
    {
     "data": {
      "text/plain": [
       "array([[ 30.,  30.,  30.],\n",
       "       [ 30.,  30.,  30.],\n",
       "       [ 30.,  30.,  30.]])"
      ]
     },
     "execution_count": 19,
     "metadata": {},
     "output_type": "execute_result"
    }
   ],
   "source": [
    "# Different functions of arrays\n",
    "\n",
    "# Transpose\n",
    "print data.transpose()\n",
    "print data.T\n",
    "print data.swapaxes(0,1)\n",
    "print arr3d.transpose(0,1,2)\n",
    "\n",
    "np.dot(data.T, data)"
   ]
  },
  {
   "cell_type": "code",
   "execution_count": 23,
   "metadata": {
    "collapsed": false
   },
   "outputs": [
    {
     "name": "stdout",
     "output_type": "stream",
     "text": [
      "x is [-0.28601967  0.93539224 -1.95787458  1.03026624 -0.05224968  0.22615203\n",
      "  0.76805397  0.37147798 -0.19198944  0.16206653] \n",
      "y is [ 0.1128164  -1.58108329 -1.40446061  1.21724218 -0.28386529 -0.02603282\n",
      " -0.1710062  -1.57047245 -0.00850593  0.64460067]\n",
      "maximux elementwise is\n",
      "[ 0.1128164   0.93539224 -1.40446061  1.21724218 -0.05224968  0.22615203\n",
      "  0.76805397  0.37147798 -0.00850593  0.64460067]\n",
      "squared root is\n",
      "[ 0.53480807  0.96715678  1.39924072  1.01502032  0.2285819   0.47555444\n",
      "  0.87638688  0.60948993  0.438166    0.40257487]\n",
      "exponential is\n",
      "[ 1.11942639  0.20575209  0.24549944  3.37785933  0.75286806  0.97430312\n",
      "  0.84281634  0.20794691  0.99153015  1.90522606]\n",
      "log on base 2 is\n",
      "[-1.80581374 -0.09635663  0.96928835  0.04301721 -4.25843386 -2.14463518\n",
      " -0.38072041 -1.42865141 -2.38090114 -2.62534195]\n",
      "copy 2nd sign to 1st is\n",
      "[ 0.28601967 -0.93539224 -1.95787458  1.03026624 -0.05224968 -0.22615203\n",
      " -0.76805397 -0.37147798 -0.19198944  0.16206653]\n"
     ]
    }
   ],
   "source": [
    "# Universal function\n",
    "from numpy.random import randn\n",
    "\n",
    "x = randn(10); y = randn(10)\n",
    "print 'x is',x,\"\\n\",'y is',y\n",
    "print \"maximux elementwise is\\n\",np.maximum(x, y)\n",
    "print \"squared root is\\n\",np.sqrt(np.absolute(x))\n",
    "print \"exponential is\\n\",np.exp(y)\n",
    "print \"log on base 2 is\\n\",np.log2(np.abs(x))\n",
    "print \"copy 2nd sign to 1st is\\n\",np.copysign(x, y)\n"
   ]
  },
  {
   "cell_type": "code",
   "execution_count": 24,
   "metadata": {
    "collapsed": false
   },
   "outputs": [
    {
     "name": "stdout",
     "output_type": "stream",
     "text": [
      "[ 0.30746511  1.83705825  2.40951914  1.59471848  0.28863391  0.22764544\n",
      "  0.78686087  1.61380904  0.19217777  0.66466201]\n",
      "[ 0.30746511  1.83705825  2.40951914  1.59471848  0.28863391  0.22764544\n",
      "  0.78686087  1.61380904  0.19217777  0.66466201]\n"
     ]
    }
   ],
   "source": [
    "# Comparing efficiency of array functions by calculating sqrt(x^2 + y^2)\n",
    "from math import sqrt\n",
    "\n",
    "def dist(x,y):\n",
    "    result = []\n",
    "    for i in range(len(x)):\n",
    "        result.append(sqrt(x[i]*x[i] + y[i]*y[i]))\n",
    "    result = np.asarray(result)\n",
    "    return result\n",
    "\n",
    "print dist(x,y)\n",
    "\n",
    "def dist_2(x,y):\n",
    "    return np.sqrt(np.square(x) + np.square(y))\n",
    "\n",
    "print dist_2(x,y)"
   ]
  },
  {
   "cell_type": "code",
   "execution_count": 25,
   "metadata": {
    "collapsed": false
   },
   "outputs": [],
   "source": [
    "# Test function\n",
    "x = randn(10000)\n",
    "y = randn(10000)\n",
    "\n",
    "%lprun -f dist dist(x,y)\n"
   ]
  },
  {
   "cell_type": "code",
   "execution_count": 26,
   "metadata": {
    "collapsed": false
   },
   "outputs": [],
   "source": [
    "# This is 100 times faster than the above function \n",
    "%lprun -f dist_2 dist_2(x,y)"
   ]
  },
  {
   "cell_type": "code",
   "execution_count": 27,
   "metadata": {
    "collapsed": false
   },
   "outputs": [
    {
     "data": {
      "image/png": "[encoded data removed]",
      "text/plain": [
       "<matplotlib.figure.Figure at 0x111d36a90>"
      ]
     },
     "metadata": {},
     "output_type": "display_data"
    }
   ],
   "source": [
    "from matplotlib import pyplot\n",
    "\n",
    "xs, ys = np.meshgrid(randn(1000),randn(1000))\n",
    "\n",
    "z = dist_2(xs,ys)\n",
    "pyplot.imshow(z, cmap=pyplot.cm.gray)\n",
    "pyplot.colorbar()\n",
    "pyplot.show()"
   ]
  },
  {
   "cell_type": "code",
   "execution_count": 33,
   "metadata": {
    "collapsed": true
   },
   "outputs": [],
   "source": [
    "np.meshgrid?"
   ]
  },
  {
   "cell_type": "code",
   "execution_count": 40,
   "metadata": {
    "collapsed": false
   },
   "outputs": [
    {
     "name": "stdout",
     "output_type": "stream",
     "text": [
      "[array([[0, 0, 0, 0, 0],\n",
      "       [1, 1, 1, 1, 1],\n",
      "       [2, 2, 2, 2, 2],\n",
      "       [3, 3, 3, 3, 3],\n",
      "       [4, 4, 4, 4, 4],\n",
      "       [5, 5, 5, 5, 5],\n",
      "       [6, 6, 6, 6, 6],\n",
      "       [7, 7, 7, 7, 7],\n",
      "       [8, 8, 8, 8, 8],\n",
      "       [9, 9, 9, 9, 9]]), array([[0, 1, 2, 3, 4],\n",
      "       [0, 1, 2, 3, 4],\n",
      "       [0, 1, 2, 3, 4],\n",
      "       [0, 1, 2, 3, 4],\n",
      "       [0, 1, 2, 3, 4],\n",
      "       [0, 1, 2, 3, 4],\n",
      "       [0, 1, 2, 3, 4],\n",
      "       [0, 1, 2, 3, 4],\n",
      "       [0, 1, 2, 3, 4],\n",
      "       [0, 1, 2, 3, 4]])]\n",
      "[0 1 2 3 4 5 6 7 8 9] [0 1 2 3 4]\n"
     ]
    }
   ],
   "source": [
    "m = np.arange(0,10,1)\n",
    "n = np.arange(0,5,1)\n",
    "print np.meshgrid(m,n, indexing = 'ij')\n",
    "print m,n"
   ]
  },
  {
   "cell_type": "code",
   "execution_count": 282,
   "metadata": {
    "collapsed": false
   },
   "outputs": [
    {
     "name": "stdout",
     "output_type": "stream",
     "text": [
      "[[-50. -49. -48. -47. -46. -45. -44. -43. -42. -41.]\n",
      " [-40. -39. -38. -37. -36. -35. -34. -33. -32. -31.]\n",
      " [-30. -29. -28. -27. -26. -25. -24. -23. -22. -21.]\n",
      " [-20. -19. -18. -17. -16. -15. -14. -13. -12. -11.]\n",
      " [-10.  -9.  -8.  -7.  -6.  -5.  -4.  -3.  -2.  -1.]\n",
      " [  0.   1.   2.   3.   4.   5.   6.   7.   8.   9.]\n",
      " [ 10.  11.  12.  13.  14.  15.  16.  17.  18.  19.]\n",
      " [ 20.  21.  22.  23.  24.  25.  26.  27.  28.  29.]\n",
      " [ 30.  31.  32.  33.  34.  35.  36.  37.  38.  39.]\n",
      " [ 40.  41.  42.  43.  44.  45.  46.  47.  48.  49.]]\n"
     ]
    },
    {
     "data": {
      "text/plain": [
       "array([[  0,   0,   0,   0,   0,   0,   0,   0,   0,   0],\n",
       "       [  0,   0,   0,   0,   0,   0,   0,   0,   0,   0],\n",
       "       [  0,   0,   0,   0,   0,   0, -25, -25, -25, -25],\n",
       "       [-25, -25, -25, -25, -25, -25, -25, -25, -25, -25],\n",
       "       [-25, -25, -25, -25, -25, -25, -25, -25, -25, -25],\n",
       "       [-25,  25,  25,  25,  25,  25,  25,  25,  25,  25],\n",
       "       [ 25,  25,  25,  25,  25,  25,  25,  25,  25,  25],\n",
       "       [ 25,  25,  25,  25,  25,  25,  50,  50,  50,  50],\n",
       "       [ 50,  50,  50,  50,  50,  50,  50,  50,  50,  50],\n",
       "       [ 50,  50,  50,  50,  50,  50,  50,  50,  50,  50]])"
      ]
     },
     "execution_count": 282,
     "metadata": {},
     "output_type": "execute_result"
    }
   ],
   "source": [
    "# Where condition clauses\n",
    "t = np.arange(-50,50,1).reshape(10,10)\n",
    "t = t.astype(np.float64)\n",
    "print t\n",
    "np.where(t > 25, 50, np.where(t>0, 25, np.where(t>-25, -25, 0)))"
   ]
  },
  {
   "cell_type": "code",
   "execution_count": 283,
   "metadata": {
    "collapsed": false
   },
   "outputs": [
    {
     "data": {
      "text/plain": [
       "array([[ -50.,  -99., -147., -194., -240., -285., -329., -372., -414.,\n",
       "        -455.],\n",
       "       [ -40.,  -79., -117., -154., -190., -225., -259., -292., -324.,\n",
       "        -355.],\n",
       "       [ -30.,  -59.,  -87., -114., -140., -165., -189., -212., -234.,\n",
       "        -255.],\n",
       "       [ -20.,  -39.,  -57.,  -74.,  -90., -105., -119., -132., -144.,\n",
       "        -155.],\n",
       "       [ -10.,  -19.,  -27.,  -34.,  -40.,  -45.,  -49.,  -52.,  -54.,\n",
       "         -55.],\n",
       "       [   0.,    1.,    3.,    6.,   10.,   15.,   21.,   28.,   36.,\n",
       "          45.],\n",
       "       [  10.,   21.,   33.,   46.,   60.,   75.,   91.,  108.,  126.,\n",
       "         145.],\n",
       "       [  20.,   41.,   63.,   86.,  110.,  135.,  161.,  188.,  216.,\n",
       "         245.],\n",
       "       [  30.,   61.,   93.,  126.,  160.,  195.,  231.,  268.,  306.,\n",
       "         345.],\n",
       "       [  40.,   81.,  123.,  166.,  210.,  255.,  301.,  348.,  396.,\n",
       "         445.]])"
      ]
     },
     "execution_count": 283,
     "metadata": {},
     "output_type": "execute_result"
    }
   ],
   "source": [
    "# statistical / mathematical functions\n",
    "t.sum()\n",
    "t.sum(axis=0)\n",
    "t.cumsum()\n",
    "t.cumsum(axis=1)"
   ]
  },
  {
   "cell_type": "code",
   "execution_count": 315,
   "metadata": {
    "collapsed": false
   },
   "outputs": [
    {
     "name": "stdout",
     "output_type": "stream",
     "text": [
      "[[  1.00000000e+00   0.00000000e+00   1.77635684e-15  -2.22044605e-16\n",
      "    8.88178420e-16]\n",
      " [ -8.88178420e-16   1.00000000e+00   0.00000000e+00   0.00000000e+00\n",
      "    0.00000000e+00]\n",
      " [ -2.22044605e-16   4.51028104e-17   1.00000000e+00   8.32667268e-17\n",
      "    1.11022302e-16]\n",
      " [ -4.44089210e-16   0.00000000e+00   8.88178420e-16   1.00000000e+00\n",
      "   -4.44089210e-16]\n",
      " [ -4.44089210e-16  -5.55111512e-17   1.77635684e-15  -5.55111512e-16\n",
      "    1.00000000e+00]]\n",
      "[[-0.1086922   0.64206186  0.41745817  0.55708358  0.30220709]\n",
      " [-0.92314844 -0.23711445 -0.19439528  0.23152116  0.01349528]\n",
      " [ 0.174345   -0.24323603 -0.35147797  0.09955972  0.88147102]\n",
      " [-0.1761883   0.68536092 -0.53702236 -0.45507715  0.06123609]\n",
      " [-0.27302832 -0.05147761  0.61319603 -0.64733954  0.35741816]] [[ 1.79230097 -0.50633763 -1.02536984 -0.28296012  1.37941526]\n",
      " [ 0.         -2.52750168 -1.08282125  1.03729117  0.48295096]\n",
      " [ 0.          0.          1.32427091  0.26246022  0.3798473 ]\n",
      " [ 0.          0.          0.         -1.58154908  0.93852574]\n",
      " [ 0.          0.          0.          0.          0.06573317]]\n"
     ]
    }
   ],
   "source": [
    "# Boolean calculation\n",
    "(t > 0).sum()\n",
    "\n",
    "# sort\n",
    "t.sort()\n",
    "\n",
    "# unique\n",
    "sorted(set(names))\n",
    "np.unique(names)\n",
    "\n",
    "# Contained or not NOTE: Not working well with float\n",
    "a = np.arange(-10, 10, 1)\n",
    "b = np.arange(-5,5,1)\n",
    "np.in1d(a,b)\n",
    "\n",
    "# save and load\n",
    "#np.save('name',xs)\n",
    "#np.load('name.npy')\n",
    "\n",
    "# load text files\n",
    "#!cat 'filename'\n",
    "#np.loadtxt()\n",
    "\n",
    "# Linear algrebra\n",
    "from numpy.linalg import inv, qr\n",
    "\n",
    "X = randn(5,5)\n",
    "print X.dot(inv(X))\n",
    "\n",
    "q,r = qr(X)\n",
    "print q,r\n",
    "\n",
    "np.diag\n",
    "np.trace\n",
    "np.linalg.det\n",
    "np.linalg.svd(arrage)\n",
    "np.linalg.solve(a=, b=)\n",
    "\n",
    "# Random module"
   ]
  },
  {
   "cell_type": "code",
   "execution_count": 5,
   "metadata": {
    "collapsed": false
   },
   "outputs": [
    {
     "data": {
      "image/png": "[encoded data removed]",
      "text/plain": [
       "<matplotlib.figure.Figure at 0x1165f1b90>"
      ]
     },
     "metadata": {},
     "output_type": "display_data"
    },
    {
     "data": {
      "image/png": "[encoded data removed]",
      "text/plain": [
       "<matplotlib.figure.Figure at 0x116935e90>"
      ]
     },
     "metadata": {},
     "output_type": "display_data"
    }
   ],
   "source": [
    "# Random walk\n",
    "from matplotlib import pyplot as plt\n",
    "import numpy as np\n",
    "\n",
    "def randomwalk(nsteps):\n",
    "    position = 0\n",
    "    walk = [position]\n",
    "    for i in np.arange(nsteps):\n",
    "        step = 1 if np.random.randint(2)-1 else -1\n",
    "        position += step\n",
    "        walk.append(position)\n",
    "        i += 1\n",
    "    return np.asarray(walk)\n",
    "\n",
    "plt.plot(randomwalk(1000))\n",
    "plt.plot(randomwalk(1000))\n",
    "plt.plot(randomwalk(1000))\n",
    "plt.show()\n",
    "\n",
    "# Move x,y simultaneously\n",
    "plt.plot(randomwalk(1000), randomwalk(1000))\n",
    "plt.show()"
   ]
  },
  {
   "cell_type": "markdown",
   "metadata": {},
   "source": [
    "# Chapter 3: Panda"
   ]
  },
  {
   "cell_type": "code",
   "execution_count": 6,
   "metadata": {
    "collapsed": true
   },
   "outputs": [],
   "source": [
    "from pandas import Series, DataFrame\n",
    "import pandas as pd\n",
    "import numpy as np"
   ]
  },
  {
   "cell_type": "code",
   "execution_count": 9,
   "metadata": {
    "collapsed": false
   },
   "outputs": [
    {
     "name": "stdout",
     "output_type": "stream",
     "text": [
      "State\n",
      "Motana            1000\n",
      "Texas             2000\n",
      "North Carolina    3500\n",
      "Washington        4000\n",
      "Utah              6000\n",
      "Minnesota          480\n",
      "Maryland           900\n",
      "Name: Gold production, dtype: int64\n",
      "State\n",
      "California        NaN\n",
      "Ohio          35000.0\n",
      "Oregon        16000.0\n",
      "Texas         71000.0\n",
      "Utah           5000.0\n",
      "Name: Silver production, dtype: float64 State\n",
      "California     True\n",
      "Ohio          False\n",
      "Oregon        False\n",
      "Texas         False\n",
      "Utah          False\n",
      "Name: Silver production, dtype: bool\n"
     ]
    }
   ],
   "source": [
    "# Series:\n",
    "\n",
    "obj1 = Series([1000,2000,3500,4000,6000,480,900], index=['Motana', 'Texas','North Carolina','Washington','Utah','Minnesota','Maryland'])\n",
    "\n",
    "obj1.name = 'Gold production'\n",
    "obj1.index.name = 'State'\n",
    "print obj1\n",
    "\n",
    "# Map the index with the corresponding value\n",
    "sdata = {'Ohio': 35000, 'Texas': 71000, 'Oregon': 16000, 'Utah': 5000}\n",
    "states = ['California', 'Ohio', 'Oregon', 'Texas', 'Utah']\n",
    "obj2 = Series(sdata, index=states)\n",
    "\n",
    "obj2.name = 'Silver production'\n",
    "obj2.index.name = 'State'\n",
    "print obj2, pd.isnull(obj2)\n"
   ]
  },
  {
   "cell_type": "code",
   "execution_count": 13,
   "metadata": {
    "collapsed": false
   },
   "outputs": [
    {
     "name": "stdout",
     "output_type": "stream",
     "text": [
      "                Gold production  Silver production\n",
      "State                                             \n",
      "Motana                   1000.0                NaN\n",
      "Texas                    2000.0                NaN\n",
      "North Carolina           3500.0                NaN\n",
      "Washington               4000.0                NaN\n",
      "Utah                     6000.0                NaN\n",
      "Minnesota                 480.0                NaN\n",
      "Maryland                  900.0                NaN\n",
      "California                  NaN                NaN\n",
      "Ohio                        NaN            35000.0\n",
      "Oregon                      NaN            16000.0\n",
      "Texas                       NaN            71000.0\n",
      "Utah                        NaN             5000.0 \n",
      "                Gold production  Silver production           State\n",
      "State                                                             \n",
      "Motana                   1000.0                NaN          Motana\n",
      "Texas                    2000.0            71000.0           Texas\n",
      "North Carolina           3500.0                NaN  North Carolina\n",
      "Washington               4000.0                NaN      Washington\n",
      "Utah                     6000.0             5000.0            Utah\n",
      "Minnesota                 480.0                NaN       Minnesota\n",
      "Maryland                  900.0                NaN        Maryland\n",
      "California                  NaN                NaN      California\n",
      "Ohio                        NaN            35000.0            Ohio\n",
      "Oregon                      NaN            16000.0          Oregon\n"
     ]
    }
   ],
   "source": [
    "# Dataframe\n",
    "# Indices are not OUTER JOINED\n",
    "obj3 = DataFrame(obj1)\n",
    "obj3['Silver production'] = obj2\n",
    "obj3\n",
    "\n",
    "#\n",
    "obj4 = DataFrame(obj1)\n",
    "obj5 = DataFrame(obj2)\n",
    "frames = [obj4, obj5]\n",
    "# need to specify true, but lose original name\n",
    "Concat_df = pd.concat(frames)\n",
    "# print Concat_df\n",
    "\n",
    "# Merge it can ONLY merge on KEYs that are COLUMNS of field not INDEX\n",
    "obj4['State'] = obj4.index\n",
    "obj5['State'] = obj5.index\n",
    "Merged_df = pd.merge(obj4, obj5, how = 'outer', on='State')\n",
    "Merged_df.index = Merged_df['State']\n",
    "Merged_df = Merged_df[['Gold production','Silver production','State']]\n",
    "\n",
    "\n",
    "### Note When joining columns on columns (potentially a many-to-many join), any indexes on the passed DataFrame objects will be discarded.\n",
    "\n",
    "# Comparing concat and merge\n",
    "print Concat_df,'\\n',Merged_df"
   ]
  },
  {
   "cell_type": "code",
   "execution_count": 14,
   "metadata": {
    "collapsed": false
   },
   "outputs": [
    {
     "name": "stdout",
     "output_type": "stream",
     "text": [
      "Index([u'Motana', u'Texas', u'North Carolina', u'Washington', u'Utah',\n",
      "       u'Minnesota', u'Maryland', u'California', u'Ohio', u'Oregon', u'Texas',\n",
      "       u'Utah'],\n",
      "      dtype='object', name=u'State')\n",
      "Index([u'Kentucky', u'Pennsylvania', u'Texas'], dtype='object') \n",
      "              Cuper production  Gold production  Silver production\n",
      "Kentucky               50000.0             3100               5800\n",
      "Pennsylvania           60000.0             5600              16000\n",
      "Texas                      NaN             2000              71000\n",
      "After appending index, merge the data NOTE: if the new value of Texas does not match original ones, new Texas is created\n",
      "Index([u'Motana', u'Texas', u'North Carolina', u'Washington', u'Utah',\n",
      "       u'Minnesota', u'Maryland', u'California', u'Ohio', u'Oregon',\n",
      "       u'Kentucky', u'Pennsylvania'],\n",
      "      dtype='object', name=u'State') \n",
      "                Gold production  Silver production           State  \\\n",
      "State                                                                \n",
      "Motana                   1000.0                NaN          Motana   \n",
      "Texas                    2000.0            71000.0           Texas   \n",
      "North Carolina           3500.0                NaN  North Carolina   \n",
      "Washington               4000.0                NaN      Washington   \n",
      "Utah                     6000.0             5000.0            Utah   \n",
      "Minnesota                 480.0                NaN       Minnesota   \n",
      "Maryland                  900.0                NaN        Maryland   \n",
      "California                  NaN                NaN      California   \n",
      "Ohio                        NaN            35000.0            Ohio   \n",
      "Oregon                      NaN            16000.0          Oregon   \n",
      "Kentucky                 3100.0             5800.0        Kentucky   \n",
      "Pennsylvania             5600.0            16000.0    Pennsylvania   \n",
      "\n",
      "                Cuper production  \n",
      "State                             \n",
      "Motana                       NaN  \n",
      "Texas                        NaN  \n",
      "North Carolina               NaN  \n",
      "Washington                   NaN  \n",
      "Utah                         NaN  \n",
      "Minnesota                    NaN  \n",
      "Maryland                     NaN  \n",
      "California                   NaN  \n",
      "Ohio                         NaN  \n",
      "Oregon                       NaN  \n",
      "Kentucky                 50000.0  \n",
      "Pennsylvania             60000.0  \n",
      "other functions\n",
      "[False False False False False False False False False False False False] \n",
      "[False False False False False False False  True False False False False]\n",
      "Index([u'California', u'Kentucky', u'Ohio', u'Oregon', u'Pennsylvania'], dtype='object', name=u'State')\n",
      "True \n",
      "False\n",
      "                Gold production  Silver production           State  \\\n",
      "State                                                                \n",
      "Motana                   1000.0                NaN          Motana   \n",
      "Texas                    2000.0            71000.0           Texas   \n",
      "North Carolina           3500.0                NaN  North Carolina   \n",
      "Washington               4000.0                NaN      Washington   \n",
      "Utah                     6000.0             5000.0            Utah   \n",
      "Minnesota                 480.0                NaN       Minnesota   \n",
      "Maryland                  900.0                NaN        Maryland   \n",
      "California                  NaN                NaN      California   \n",
      "Ohio                        NaN            35000.0            Ohio   \n",
      "Oregon                      NaN            16000.0          Oregon   \n",
      "Kentucky                 3100.0             5800.0        Kentucky   \n",
      "Pennsylvania             5600.0            16000.0    Pennsylvania   \n",
      "\n",
      "                Cuper production  \n",
      "State                             \n",
      "Motana                       NaN  \n",
      "Texas                        NaN  \n",
      "North Carolina               NaN  \n",
      "Washington                   NaN  \n",
      "Utah                         NaN  \n",
      "Minnesota                    NaN  \n",
      "Maryland                     NaN  \n",
      "California                   NaN  \n",
      "Ohio                         NaN  \n",
      "Oregon                       NaN  \n",
      "Kentucky                 50000.0  \n",
      "Pennsylvania             60000.0  \n",
      "swap columns and remove the state\n",
      "                Gold production  Silver production  Cuper production\n",
      "State                                                               \n",
      "Motana                   1000.0                NaN               NaN\n",
      "Texas                    2000.0            71000.0               NaN\n",
      "North Carolina           3500.0                NaN               NaN\n",
      "Washington               4000.0                NaN               NaN\n",
      "Utah                     6000.0             5000.0               NaN\n",
      "Minnesota                 480.0                NaN               NaN\n",
      "Maryland                  900.0                NaN               NaN\n",
      "California                  NaN                NaN               NaN\n",
      "Ohio                        NaN            35000.0               NaN\n",
      "Oregon                      NaN            16000.0               NaN\n",
      "Kentucky                 3100.0             5800.0           50000.0\n",
      "Pennsylvania             5600.0            16000.0           60000.0\n"
     ]
    }
   ],
   "source": [
    "# Index are not immutable\n",
    "index = Concat_df.index\n",
    "# index[1] = 'a'\n",
    "print index\n",
    "\n",
    "# Index function\n",
    "frame_new = DataFrame({\"Gold production\":{\"Kentucky\": 3100,\"Pennsylvania\": 5600, \"Texas\": 2000}, \"Silver production\":{\"Kentucky\":5800, \"Pennsylvania\":16000, \"Texas\": 71000},\n",
    "                      \"Cuper production\":{\"Kentucky\":50000, \"Pennsylvania\": 60000}})\n",
    "print frame_new.index,\"\\n\", frame_new\n",
    "\n",
    "\n",
    "print \"After appending index, merge the data NOTE: if the new value of Texas does not match original ones, new Texas is created\"\n",
    "\n",
    "frame_new['State'] = frame_new.index\n",
    "obj6 = pd.merge(Merged_df, frame_new, on = [\"State\",\"Gold production\",\"Silver production\"],how=\"outer\")\n",
    "obj6.index = obj6.State\n",
    "print obj6.index,\"\\n\", obj6\n",
    "\n",
    "print \"other functions\"\n",
    "print obj6.index.isin([\"Dekota\"]),\"\\n\", obj6.index.isin([\"California\"])\n",
    "print obj6.index.difference(obj4.index)\n",
    "print obj6.index.is_unique,\"\\n\",Concat_df.index.is_unique\n",
    "obj6.index.drop(\"Oregon\")\n",
    "print obj6\n",
    "\n",
    "print \"swap columns and remove the state\"\n",
    "obj6 = obj6[['Gold production','Silver production','Cuper production']]\n",
    "print obj6"
   ]
  },
  {
   "cell_type": "markdown",
   "metadata": {
    "collapsed": false
   },
   "source": [
    "### Panda: Essential features"
   ]
  },
  {
   "cell_type": "code",
   "execution_count": 23,
   "metadata": {
    "collapsed": false
   },
   "outputs": [
    {
     "name": "stdout",
     "output_type": "stream",
     "text": [
      "Original S1 \n",
      "0   -0.582428\n",
      "1    0.834286\n",
      "2    1.487018\n",
      "3    0.214904\n",
      "4    1.254001\n",
      "5   -0.460736\n",
      "6    0.400556\n",
      "7   -0.551526\n",
      "8   -1.055206\n",
      "9    0.211352\n",
      "dtype: float64\n",
      "Reindexing S1 \n",
      "0    -0.582428\n",
      "1     0.834286\n",
      "2     1.487018\n",
      "3     0.214904\n",
      "4     1.254001\n",
      "5    -0.460736\n",
      "6     0.400556\n",
      "7    -0.551526\n",
      "8    -1.055206\n",
      "9     0.211352\n",
      "10         NaN\n",
      "11         NaN\n",
      "dtype: float64 \n",
      "Reindexing S1 with filled values = 0 \n",
      "0    -0.582428\n",
      "1     0.834286\n",
      "2     1.487018\n",
      "3     0.214904\n",
      "4     1.254001\n",
      "5    -0.460736\n",
      "6     0.400556\n",
      "7    -0.551526\n",
      "8    -1.055206\n",
      "9     0.211352\n",
      "10    0.000000\n",
      "11    0.000000\n",
      "dtype: float64\n",
      "Reindexing S1 with forward/backward filling \n",
      "0      blue\n",
      "1      blue\n",
      "2    yellow\n",
      "3    yellow\n",
      "4     black\n",
      "5     black\n",
      "6    purple\n",
      "7    purple\n",
      "dtype: object\n",
      "   A   B   C\n",
      "0  0   1   2\n",
      "1  3   4   5\n",
      "2  6   7   8\n",
      "3  9  10  11 \n",
      "After reindexing \n",
      "     A     B     C\n",
      "0  0.0   1.0   2.0\n",
      "1  3.0   4.0   5.0\n",
      "2  6.0   7.0   8.0\n",
      "3  9.0  10.0  11.0\n",
      "4  NaN   NaN   NaN\n",
      "5  NaN   NaN   NaN\n",
      "   A   a   B   b   C   c\n",
      "0  0   2   1   2   2   2\n",
      "1  3   5   4   5   5   5\n",
      "2  6   8   7   8   8   8\n",
      "3  9  11  10  11  11  11\n",
      "4  9  11  10  11  11  11\n",
      "5  9  11  10  11  11  11\n"
     ]
    }
   ],
   "source": [
    "# Reindexing\n",
    "\n",
    "S1 = Series(np.random.randn(10), index=np.arange(10))\n",
    "\n",
    "print \"Original S1\",'\\n', S1\n",
    "\n",
    "print \"Reindexing S1\",'\\n',S1.reindex(np.arange(12)), \"\\n\", \"Reindexing S1 with filled values = 0\",'\\n', S1.reindex(np.arange(12), fill_value = 0)\n",
    "\n",
    "S2 = Series(['blue','yellow','black','purple'], index = np.arange(0,8,2))\n",
    "print \"Reindexing S1 with forward/backward filling\",'\\n', S2.reindex(np.arange(8), method = 'ffill')\n",
    "\n",
    "# Reindexing data frames applies directly on rows\n",
    "\n",
    "Df1 = DataFrame(np.arange(12).reshape(4,3), index = np.arange(4), columns = ['A','B','C'])\n",
    "print Df1,'\\n','After reindexing','\\n',Df1.reindex(np.arange(6))\n",
    "\n",
    "# Columns can be reindexed seperately\n",
    "print Df1.reindex(index=np.arange(6), columns=['A','a','B','b','C','c'], method = 'ffill')"
   ]
  },
  {
   "cell_type": "code",
   "execution_count": 26,
   "metadata": {
    "collapsed": false
   },
   "outputs": [
    {
     "name": "stdout",
     "output_type": "stream",
     "text": [
      "0   -0.582428\n",
      "1    0.834286\n",
      "2    1.487018\n",
      "4    1.254001\n",
      "5   -0.460736\n",
      "6    0.400556\n",
      "7   -0.551526\n",
      "8   -1.055206\n",
      "9    0.211352\n",
      "dtype: float64\n",
      "          one  two  three  four\n",
      "Colorado    4    5      6     7\n",
      "Utah        8    9     10    11\n",
      "          three  four\n",
      "Ohio          2     3\n",
      "Colorado      6     7\n",
      "Utah         10    11\n",
      "New York     14    15\n",
      "          two  four\n",
      "Colorado    5     7\n",
      "Utah        9    11\n"
     ]
    }
   ],
   "source": [
    "# Dropping index\n",
    "\n",
    "print S1.drop(3)\n",
    "\n",
    "Df3 = DataFrame(np.arange(16).reshape((4, 4)), index=['Ohio', 'Colorado', 'Utah', 'New York'], columns=['one', 'two', 'three', 'four'])\n",
    "print Df3.drop(['Ohio', 'New York'])\n",
    "print Df3.drop(['one','two'], axis = 1)\n",
    "print Df3.drop(['Ohio','New York']).drop(['one', 'three'], axis = 1)"
   ]
  },
  {
   "cell_type": "code",
   "execution_count": 66,
   "metadata": {
    "collapsed": false
   },
   "outputs": [
    {
     "name": "stdout",
     "output_type": "stream",
     "text": [
      "Array selection exclusive \n",
      "[[1 2 3 4]\n",
      " [6 7 8 9]] \n",
      "dataframe selection using .ix is inclusive \n",
      "   B  C  D  E\n",
      "a  1  2  3  4\n",
      "b  6  7  8  9\n",
      ".ix is deprecated be replaced by .loc and .iloc \n",
      "loc is label based \n",
      "    B   C   D   E\n",
      "a   1   2   3   4\n",
      "b   6   7   8   9\n",
      "c  11  12  13  14 \n",
      "iloc is integer based \n",
      "   B  C  D  E\n",
      "a  1  2  3  4\n",
      "b  6  7  8  9\n",
      "    A   B   C   D   E\n",
      "b   5   6   7   8   9\n",
      "c  10  11  12  13  14\n",
      "d  15  16  17  18  19\n",
      "e  20  21  22  23  24\n",
      "       A      B      C      D      E\n",
      "a   True   True   True   True   True\n",
      "b  False  False  False  False  False\n",
      "c  False  False  False  False  False\n",
      "d  False  False  False  False  False\n",
      "e  False  False  False  False  False\n",
      "    A   B   C   D   E\n",
      "a   0  -1  -2   3  -4\n",
      "b  -5   6  -7  -8   9\n",
      "c -10 -11  12 -13 -14\n",
      "d  15 -16 -17  18 -19\n",
      "e -20  21 -22 -23  24\n",
      "   A  B  C  D  E\n",
      "a  1  1  1  1  1\n",
      "b  1  1  1  1  1\n",
      "c  1  1 -1 -1 -1\n",
      "d -1 -1 -1 -1 -1\n",
      "e -1 -1 -1 -1 -1\n"
     ]
    },
    {
     "name": "stderr",
     "output_type": "stream",
     "text": [
      "/Volumes/Bear/2017_05_25_Programmer/anaconda/lib/python2.7/site-packages/ipykernel/__main__.py:8: DeprecationWarning: \n",
      ".ix is deprecated. Please use\n",
      ".loc for label based indexing or\n",
      ".iloc for positional indexing\n",
      "\n",
      "See the documentation here:\n",
      "http://pandas.pydata.org/pandas-docs/stable/indexing.html#deprecate_ix\n"
     ]
    }
   ],
   "source": [
    "# Dataframe slicing and dicing \n",
    "\n",
    "# Before move forward\n",
    "data_array = np.arange(0,25).reshape(5,5)\n",
    "\n",
    "data_df = DataFrame(np.arange(0,25).reshape(5,5), index = ['a','b','c','d','e'], columns=['A','B','C','D','E'])\n",
    "\n",
    "print 'Array selection exclusive','\\n',data_array[:2,1:],'\\n', 'dataframe selection using .ix is inclusive','\\n',data_df.ix[:2,1:]\n",
    "\n",
    "print \".ix is deprecated be replaced by .loc and .iloc\",'\\n','loc is label based','\\n',data_df.loc[:'c','B':],'\\n',\"iloc is integer based\",'\\n', data_df.iloc[:2,1:]\n",
    "\n",
    "# Other random function\n",
    "print data_df[data_df['B']>3]\n",
    "\n",
    "print data_df < 5\n",
    "\n",
    "m = data_df % 3 == 0\n",
    "\n",
    "# Notice the difference between dataframe where and np.where\n",
    "print data_df.where(m, -data_df)\n",
    "\n",
    "# Rather than np.where nested condition, we can directly assign more conditions\n",
    "print data_df.where(data_df > 12, 1).where(data_df < 12, -1) \n",
    "\n",
    "\n"
   ]
  },
  {
   "cell_type": "code",
   "execution_count": 26,
   "metadata": {
    "collapsed": false
   },
   "outputs": [
    {
     "name": "stdout",
     "output_type": "stream",
     "text": [
      "Indices are union of two \n",
      "a    5.2\n",
      "b    1.1\n",
      "c    1.9\n",
      "d    5.5\n",
      "e    NaN\n",
      "dtype: float64\n",
      "similarly for columns of dataframes \n",
      "      A     B     C   D   E\n",
      "a   NaN   NaN   NaN NaN NaN\n",
      "b   NaN   NaN   NaN NaN NaN\n",
      "c   6.0   8.0  10.0 NaN NaN\n",
      "d  14.0  16.0  18.0 NaN NaN\n",
      "e   NaN   NaN   NaN NaN NaN\n",
      "using the adding function of dataframes \n",
      "      A     B     C     D     E\n",
      "a   0.0   1.0   2.0   NaN   NaN\n",
      "b   3.0   4.0   5.0   NaN   NaN\n",
      "c   6.0   8.0  10.0   3.0   4.0\n",
      "d  14.0  16.0  18.0   8.0   9.0\n",
      "e  10.0  11.0  12.0  13.0  14.0\n",
      "Array broadcasting\n",
      "[[ 0  1  2]\n",
      " [ 3  4  5]\n",
      " [ 6  7  8]\n",
      " [ 9 10 11]\n",
      " [12 13 14]] \n",
      "[[ 0]\n",
      " [ 3]\n",
      " [ 6]\n",
      " [ 9]\n",
      " [12]] \n",
      "[[0 1 2]\n",
      " [0 1 2]\n",
      " [0 1 2]\n",
      " [0 1 2]\n",
      " [0 1 2]] \n",
      "[[0 1 2]] \n",
      "[[ 0  0  0]\n",
      " [ 3  3  3]\n",
      " [ 6  6  6]\n",
      " [ 9  9  9]\n",
      " [12 12 12]]\n",
      "Dataframe broadcasting\n",
      "a    0\n",
      "b    3\n",
      "c    6\n",
      "d    9\n",
      "Name: A, dtype: int64 \n",
      "   A  B  C\n",
      "a  0  1  2\n",
      "b  0  1  2\n",
      "c  0  1  2\n",
      "d  0  1  2\n",
      "A    0\n",
      "B    1\n",
      "C    2\n",
      "D    3\n",
      "E    4\n",
      "Name: c, dtype: int64 \n",
      "    A   B   C   D   E\n",
      "c   0   0   0   0   0\n",
      "d   5   5   5   5   5\n",
      "e  10  10  10  10  10\n",
      "Addtion -> reindex\n",
      "   A   B   C   D   E\n",
      "a  0   2   4 NaN NaN\n",
      "b  3   5   7 NaN NaN\n",
      "c  6   8  10 NaN NaN\n",
      "d  9  11  13 NaN NaN\n"
     ]
    }
   ],
   "source": [
    "# Arithmatic of series\n",
    "s1 = Series([7.3, -2.5, 3.4, 1.5], index=['a', 'b', 'c', 'd'])\n",
    "s2 = Series([-2.1, 3.6, -1.5, 4, 3.1], index=['a', 'b', 'c', 'd', 'e'])\n",
    "print \"Indices are union of two\",'\\n',s1 + s2\n",
    "\n",
    "# Arithmatic of data frames\n",
    "df1 = DataFrame(np.arange(12).reshape(4,3), index = list('abcd'), columns = list('ABC'))\n",
    "df2 = DataFrame(np.arange(15).reshape(3,5), index = list('cde'), columns = list('ABCDE'))\n",
    "print \"similarly for columns of dataframes\",'\\n', df1 + df2\n",
    "print \"using the adding function of dataframes\",'\\n', df1.add(df2, fill_value=0)\n",
    "\n",
    "# Arithmatic between series and frames, so-called BROADCASTING\n",
    "print \"Array broadcasting\"\n",
    "Arr = np.arange(15).reshape(5,3)\n",
    "Arr1 = Arr[:,:1]; Arr2 = Arr[:1,:]\n",
    "print Arr,'\\n',Arr1,'\\n',Arr - Arr1,'\\n',Arr2,'\\n',Arr - Arr2\n",
    "\n",
    "print \"Dataframe broadcasting\"\n",
    "s3 = df1.loc[:,'A']\n",
    "print s3,'\\n',df1.sub(s3, axis = 0) # broadcast over column is different than on rows, axis = the one you match index on\n",
    "\n",
    "s4 = df2.loc['c',:]\n",
    "print s4,'\\n',df2 - s4 \n",
    "\n",
    "print \"Addtion -> reindex\"\n",
    "print df1 + s4"
   ]
  },
  {
   "cell_type": "code",
   "execution_count": 35,
   "metadata": {
    "collapsed": false
   },
   "outputs": [
    {
     "name": "stdout",
     "output_type": "stream",
     "text": [
      "               b         d         e\n",
      "Utah    0.573024  1.031344  0.317034\n",
      "Ohio    1.506883  0.639153  0.513237\n",
      "Texas   0.274266 -1.939441  0.803197\n",
      "Oregon  0.003544  0.123395 -0.534811 \n",
      "               b         d         e\n",
      "Utah    0.573024  1.031344  0.317034\n",
      "Ohio    1.506883  0.639153  0.513237\n",
      "Texas   0.274266  1.939441  0.803197\n",
      "Oregon  0.003544  0.123395  0.534811\n",
      "Utah      0.714310\n",
      "Ohio      0.993647\n",
      "Texas     2.742638\n",
      "Oregon    0.658206\n",
      "dtype: float64\n",
      "             max       min\n",
      "Utah    1.031344  0.317034\n",
      "Ohio    1.506883  0.513237\n",
      "Texas   0.803197 -1.939441\n",
      "Oregon  0.123395 -0.534811\n",
      "           b      d      e\n",
      "Utah    0.57   1.03   0.32\n",
      "Ohio    1.51   0.64   0.51\n",
      "Texas   0.27  -1.94   0.80\n",
      "Oregon  0.00   0.12  -0.53\n"
     ]
    }
   ],
   "source": [
    "# Function application and mapping \n",
    "frame = DataFrame(np.random.randn(4, 3), columns=list('bde'), index=['Utah', 'Ohio', 'Texas', 'Oregon'])\n",
    "print frame,'\\n',np.abs(frame)\n",
    "\n",
    "# Note: lambda operator: quick of creating annoymous functions\n",
    "f = lambda x: x.max() - x.min()\n",
    "def f1(x):\n",
    "    return Series([x.max(), x.min()], index = [\"max\",\"min\"])\n",
    "print frame.apply(f,axis = 1)\n",
    "print frame.apply(f1,axis = 1)\n",
    "\n",
    "# Element wise application using applymap\n",
    "\n",
    "format = lambda x: '%.2f' % x\n",
    "print frame.applymap(format)"
   ]
  },
  {
   "cell_type": "code",
   "execution_count": 57,
   "metadata": {
    "collapsed": false
   },
   "outputs": [
    {
     "name": "stdout",
     "output_type": "stream",
     "text": [
      "d    1.5\n",
      "c    3.4\n",
      "b   -2.5\n",
      "a    7.3\n",
      "dtype: float64 \n",
      "b   -2.5\n",
      "d    1.5\n",
      "c    3.4\n",
      "a    7.3\n",
      "dtype: float64\n",
      "               b         d         e\n",
      "Oregon  0.003544  0.123395 -0.534811\n",
      "Texas   0.274266 -1.939441  0.803197\n",
      "Utah    0.573024  1.031344  0.317034\n",
      "Ohio    1.506883  0.639153  0.513237\n",
      "a    4.0\n",
      "b    1.0\n",
      "c    3.0\n",
      "d    2.0\n",
      "dtype: float64 \n",
      "a    4.0\n",
      "b    1.0\n",
      "c    3.0\n",
      "d    2.0\n",
      "dtype: float64\n",
      "          b    d    e\n",
      "Utah    3.0  4.0  2.0\n",
      "Ohio    4.0  3.0  3.0\n",
      "Texas   2.0  1.0  4.0\n",
      "Oregon  1.0  2.0  1.0\n"
     ]
    }
   ],
   "source": [
    "# Sorting, ordering and ranking\n",
    "print s1.sort_index(ascending=False),'\\n', s1.sort_values()\n",
    "print frame.sort_values(axis = 0, by = 'b')\n",
    "print s1.rank(method=\"first\"),'\\n', s1.rank(method=\"max\")\n",
    "print frame.rank(axis=0)"
   ]
  },
  {
   "cell_type": "markdown",
   "metadata": {},
   "source": [
    "### Summarizing and computing descriptive statistics"
   ]
  },
  {
   "cell_type": "code",
   "execution_count": 61,
   "metadata": {
    "collapsed": false
   },
   "outputs": [
    {
     "name": "stdout",
     "output_type": "stream",
     "text": [
      " one    3.083333\n",
      "two   -2.900000\n",
      "dtype: float64 one    1.4\n",
      "two   -2.9\n",
      "dtype: float64\n",
      "            one       two\n",
      "count  3.000000  2.000000\n",
      "mean   3.083333 -2.900000\n",
      "std    3.493685  2.262742\n",
      "min    0.750000 -4.500000\n",
      "25%    1.075000 -3.700000\n",
      "50%    1.400000 -2.900000\n",
      "75%    4.250000 -2.100000\n",
      "max    7.100000 -1.300000\n",
      "one    b\n",
      "two    d\n",
      "dtype: object one    d\n",
      "two    b\n",
      "dtype: object\n"
     ]
    }
   ],
   "source": [
    "df4 = DataFrame([[1.4, np.nan], [7.1, -4.5], [np.nan, np.nan], [0.75, -1.3]],\n",
    "index=['a', 'b', 'c', 'd'], columns=['one', 'two'])\n",
    "\n",
    "print df4.mean(), df4.median()\n",
    "print df4.describe()\n",
    "print df4.idxmax(), df4.idxmin()\n"
   ]
  },
  {
   "cell_type": "markdown",
   "metadata": {},
   "source": [
    "### Correlation and Covariance"
   ]
  },
  {
   "cell_type": "code",
   "execution_count": 89,
   "metadata": {
    "collapsed": false
   },
   "outputs": [],
   "source": [
    "import pandas_datareader as prd\n",
    "import datetime\n",
    "\n",
    "start = datetime.datetime(2007,1,1)\n",
    "end = datetime.datetime(2017,1,1)\n",
    "\n",
    "all_data = {}\n",
    "for ticker in ['AAPL', 'IBM', 'MSFT', 'GOOG']:\n",
    "    all_data[ticker] = prd.DataReader(ticker, \"google\", start, end)\n",
    "price = DataFrame({tic: data['Open'] for tic, data in all_data.iteritems()})\n",
    "volume = DataFrame({tic: data['Volume'] for tic, data in all_data.iteritems()})"
   ]
  },
  {
   "cell_type": "code",
   "execution_count": 99,
   "metadata": {
    "collapsed": false
   },
   "outputs": [
    {
     "name": "stdout",
     "output_type": "stream",
     "text": [
      "Corr between returns from MSFT and returns from IBM \n",
      "0.530878203346\n",
      "          AAPL      GOOG       IBM      MSFT\n",
      "AAPL  1.000000  0.352061  0.511191  0.462996\n",
      "GOOG  0.352061  1.000000  0.309380  0.335181\n",
      "IBM   0.511191  0.309380  1.000000  0.530878\n",
      "MSFT  0.462996  0.335181  0.530878  1.000000 \n",
      "          AAPL      GOOG       IBM      MSFT\n",
      "AAPL  0.000512  0.000233  0.000160  0.000177\n",
      "GOOG  0.000233  0.000858  0.000125  0.000166\n",
      "IBM   0.000160  0.000125  0.000191  0.000124\n",
      "MSFT  0.000177  0.000166  0.000124  0.000285\n",
      "AAPL    1.000000\n",
      "GOOG    0.352061\n",
      "IBM     0.511191\n",
      "MSFT    0.462996\n",
      "dtype: float64\n"
     ]
    }
   ],
   "source": [
    "returns = price.pct_change()\n",
    "print \"Corr between returns from MSFT and returns from IBM\",'\\n',returns.MSFT.corr(returns.IBM)\n",
    "\n",
    "print returns.corr(),'\\n',returns.cov()\n",
    "\n",
    "print returns.corrwith(returns.AAPL)"
   ]
  },
  {
   "cell_type": "markdown",
   "metadata": {},
   "source": [
    "### Handling Missing Data"
   ]
  },
  {
   "cell_type": "code",
   "execution_count": 101,
   "metadata": {
    "collapsed": false
   },
   "outputs": [
    {
     "data": {
      "text/plain": [
       "0    False\n",
       "1    False\n",
       "2     True\n",
       "3    False\n",
       "4     True\n",
       "dtype: bool"
      ]
     },
     "execution_count": 101,
     "metadata": {},
     "output_type": "execute_result"
    }
   ],
   "source": [
    "# Python notices NaN and None\n",
    "string_data = Series(['aardvark', 'artichoke', np.nan, 'avocado', None])\n",
    "string_data.isnull()"
   ]
  },
  {
   "cell_type": "code",
   "execution_count": 109,
   "metadata": {
    "collapsed": false
   },
   "outputs": [
    {
     "name": "stdout",
     "output_type": "stream",
     "text": [
      "0     aardvark\n",
      "1    artichoke\n",
      "3      avocado\n",
      "dtype: object\n",
      "Dropna automatically applies on rows \n",
      "     0    1    2\n",
      "0  1.0  6.5  3.0\n",
      "Apply to row and columns \n",
      "     0    1    2\n",
      "0  1.0  6.5  3.0\n",
      "1  1.0  NaN  NaN\n",
      "3  NaN  6.5  3.0\n"
     ]
    }
   ],
   "source": [
    "# Handling missing data in series\n",
    "print string_data.dropna()\n",
    "\n",
    "# remove missing values in dataframe\n",
    "df5 = DataFrame([[1., 6.5, 3.], [1.,np.nan, np.nan], [np.nan,np.nan,np.nan], [np.nan,6.5, 3.]])\n",
    "\n",
    "print \"Dropna automatically applies on rows\",'\\n',df5.dropna()\n",
    "print \"Apply to row and columns\",'\\n',df5.dropna(how=\"all\")"
   ]
  },
  {
   "cell_type": "code",
   "execution_count": 117,
   "metadata": {
    "collapsed": false
   },
   "outputs": [
    {
     "name": "stdout",
     "output_type": "stream",
     "text": [
      "     0    1    2\n",
      "0  1.0  6.5  3.0\n",
      "1  1.0  0.0  0.0\n",
      "2  0.0  0.0  0.0\n",
      "3  0.0  6.5  3.0\n",
      "     0    1    2\n",
      "0  1.0  6.5  3.0\n",
      "1  1.0  6.5  3.0\n",
      "2  1.0  6.5  3.0\n",
      "3  1.0  6.5  3.0\n",
      "     0    1    2\n",
      "0  1.0  6.5  3.0\n",
      "1  1.0  6.5  3.0\n",
      "2  1.0  NaN  NaN\n",
      "3  NaN  6.5  3.0\n"
     ]
    }
   ],
   "source": [
    "# Filling in missing values\n",
    "print df5.fillna(0) # If you want to replace the original df5.fillna(0, inplace=True)\n",
    "print df5.fillna(df5.mean())\n",
    "print df5.fillna(method = \"ffill\", limit=1)"
   ]
  },
  {
   "cell_type": "markdown",
   "metadata": {},
   "source": [
    "### Hierarchical Indexing"
   ]
  },
  {
   "cell_type": "code",
   "execution_count": 132,
   "metadata": {
    "collapsed": false
   },
   "outputs": [
    {
     "name": "stdout",
     "output_type": "stream",
     "text": [
      "a  1    1.640898\n",
      "   2   -0.765457\n",
      "   3    2.154266\n",
      "b  1   -0.439090\n",
      "   2    1.784670\n",
      "   3    0.856733\n",
      "c  1   -1.245279\n",
      "   2    0.316053\n",
      "d  2    0.034115\n",
      "   3   -1.075772\n",
      "dtype: float64 \n",
      "1    1.640898\n",
      "2   -0.765457\n",
      "3    2.154266\n",
      "dtype: float64 \n",
      "a    1.640898\n",
      "b   -0.439090\n",
      "c   -1.245279\n",
      "dtype: float64\n",
      "MultiIndex(levels=[[u'a', u'b', u'c', u'd'], [1, 2, 3]],\n",
      "           labels=[[0, 0, 0, 1, 1, 1, 2, 2, 3, 3], [0, 1, 2, 0, 1, 2, 0, 1, 1, 2]])\n",
      "               b         d         e\n",
      "Utah    0.573024  1.031344  0.317034\n",
      "Ohio    1.506883  0.639153  0.513237\n",
      "Texas   0.274266 -1.939441  0.803197\n",
      "Oregon  0.003544  0.123395 -0.534811 \n",
      "b  Utah      0.573024\n",
      "   Ohio      1.506883\n",
      "   Texas     0.274266\n",
      "   Oregon    0.003544\n",
      "d  Utah      1.031344\n",
      "   Ohio      0.639153\n",
      "   Texas    -1.939441\n",
      "   Oregon    0.123395\n",
      "e  Utah      0.317034\n",
      "   Ohio      0.513237\n",
      "   Texas     0.803197\n",
      "   Oregon   -0.534811\n",
      "dtype: float64 \n",
      "Utah    b    0.573024\n",
      "        d    1.031344\n",
      "        e    0.317034\n",
      "Ohio    b    1.506883\n",
      "        d    0.639153\n",
      "        e    0.513237\n",
      "Texas   b    0.274266\n",
      "        d   -1.939441\n",
      "        e    0.803197\n",
      "Oregon  b    0.003544\n",
      "        d    0.123395\n",
      "        e   -0.534811\n",
      "dtype: float64\n"
     ]
    },
    {
     "data": {
      "text/html": [
       "<div>\n",
       "<style>\n",
       "    .dataframe thead tr:only-child th {\n",
       "        text-align: right;\n",
       "    }\n",
       "\n",
       "    .dataframe thead th {\n",
       "        text-align: left;\n",
       "    }\n",
       "\n",
       "    .dataframe tbody tr th {\n",
       "        vertical-align: top;\n",
       "    }\n",
       "</style>\n",
       "<table border=\"1\" class=\"dataframe\">\n",
       "  <thead>\n",
       "    <tr>\n",
       "      <th></th>\n",
       "      <th></th>\n",
       "      <th>A</th>\n",
       "      <th>B</th>\n",
       "      <th>A</th>\n",
       "      <th colspan=\"2\" halign=\"left\">B</th>\n",
       "    </tr>\n",
       "    <tr>\n",
       "      <th></th>\n",
       "      <th></th>\n",
       "      <th>alpha</th>\n",
       "      <th>alpha</th>\n",
       "      <th>beta</th>\n",
       "      <th>beta</th>\n",
       "      <th>beta</th>\n",
       "    </tr>\n",
       "  </thead>\n",
       "  <tbody>\n",
       "    <tr>\n",
       "      <th rowspan=\"2\" valign=\"top\">a</th>\n",
       "      <th>1</th>\n",
       "      <td>-0.608955</td>\n",
       "      <td>-0.371190</td>\n",
       "      <td>0.078047</td>\n",
       "      <td>0.044426</td>\n",
       "      <td>0.614437</td>\n",
       "    </tr>\n",
       "    <tr>\n",
       "      <th>2</th>\n",
       "      <td>-0.004175</td>\n",
       "      <td>-0.019522</td>\n",
       "      <td>-0.801606</td>\n",
       "      <td>-1.144177</td>\n",
       "      <td>1.981944</td>\n",
       "    </tr>\n",
       "    <tr>\n",
       "      <th rowspan=\"3\" valign=\"top\">b</th>\n",
       "      <th>3</th>\n",
       "      <td>1.306977</td>\n",
       "      <td>1.877909</td>\n",
       "      <td>1.191477</td>\n",
       "      <td>0.204368</td>\n",
       "      <td>0.879919</td>\n",
       "    </tr>\n",
       "    <tr>\n",
       "      <th>1</th>\n",
       "      <td>1.130911</td>\n",
       "      <td>-0.261552</td>\n",
       "      <td>0.205067</td>\n",
       "      <td>-0.283011</td>\n",
       "      <td>-0.456438</td>\n",
       "    </tr>\n",
       "    <tr>\n",
       "      <th>2</th>\n",
       "      <td>-1.026563</td>\n",
       "      <td>-0.926064</td>\n",
       "      <td>-1.248344</td>\n",
       "      <td>0.418241</td>\n",
       "      <td>1.224234</td>\n",
       "    </tr>\n",
       "  </tbody>\n",
       "</table>\n",
       "</div>"
      ],
      "text/plain": [
       "            A         B         A         B          \n",
       "        alpha     alpha      beta      beta      beta\n",
       "a 1 -0.608955 -0.371190  0.078047  0.044426  0.614437\n",
       "  2 -0.004175 -0.019522 -0.801606 -1.144177  1.981944\n",
       "b 3  1.306977  1.877909  1.191477  0.204368  0.879919\n",
       "  1  1.130911 -0.261552  0.205067 -0.283011 -0.456438\n",
       "  2 -1.026563 -0.926064 -1.248344  0.418241  1.224234"
      ]
     },
     "execution_count": 132,
     "metadata": {},
     "output_type": "execute_result"
    }
   ],
   "source": [
    "# Series multi-level indexing \n",
    "S6 = Series(np.random.randn(10), index=[['a', 'a', 'a', 'b', 'b', 'b', 'c', 'c', 'd', 'd'],[1, 2, 3, 1, 2, 3, 1, 2, 2, 3]])\n",
    "\n",
    "# Selection and slicing can be done as normal\n",
    "print S6,'\\n',S6['a'],'\\n',S6[:,1]\n",
    "print S6.index\n",
    "\n",
    "# Data frame can be unstack and stack again\n",
    "print frame,'\\n',frame.unstack(),'\\n',frame.stack()\n",
    "\n",
    "# 2D multi-level is also possible\n",
    "frame_2 = DataFrame(np.random.randn(25).reshape(5,5), index = [['a','a','b','b','b'],[1,2,3,1,2]], columns = \n",
    "                   [['A','B','A','B','B'],['alpha','alpha','beta','beta','beta']])\n",
    "frame_2"
   ]
  },
  {
   "cell_type": "code",
   "execution_count": 145,
   "metadata": {
    "collapsed": false
   },
   "outputs": [
    {
     "name": "stdout",
     "output_type": "stream",
     "text": [
      "            A         B         A         B          \n",
      "        alpha     alpha      beta      beta      beta\n",
      "1 a -0.608955 -0.371190  0.078047  0.044426  0.614437\n",
      "2 a -0.004175 -0.019522 -0.801606 -1.144177  1.981944\n",
      "3 b  1.306977  1.877909  1.191477  0.204368  0.879919\n",
      "1 b  1.130911 -0.261552  0.205067 -0.283011 -0.456438\n",
      "2 b -1.026563 -0.926064 -1.248344  0.418241  1.224234 \n",
      "        alpha                beta                    \n",
      "            A         B         A         B         B\n",
      "a 1 -0.608955 -0.371190  0.078047  0.044426  0.614437\n",
      "  2 -0.004175 -0.019522 -0.801606 -1.144177  1.981944\n",
      "b 3  1.306977  1.877909  1.191477  0.204368  0.879919\n",
      "  1  1.130911 -0.261552  0.205067 -0.283011 -0.456438\n",
      "  2 -1.026563 -0.926064 -1.248344  0.418241  1.224234\n",
      "            A         B         A         B          \n",
      "        alpha     alpha      beta      beta      beta\n",
      "a 1 -0.608955 -0.371190  0.078047  0.044426  0.614437\n",
      "  2 -0.004175 -0.019522 -0.801606 -1.144177  1.981944\n",
      "b 1  1.130911 -0.261552  0.205067 -0.283011 -0.456438\n",
      "  2 -1.026563 -0.926064 -1.248344  0.418241  1.224234\n",
      "  3  1.306977  1.877909  1.191477  0.204368  0.879919 \n",
      "            A         B         A         B          \n",
      "        alpha     alpha      beta      beta      beta\n",
      "a 1 -0.608955 -0.371190  0.078047  0.044426  0.614437\n",
      "  2 -0.004175 -0.019522 -0.801606 -1.144177  1.981944\n",
      "b 3  1.306977  1.877909  1.191477  0.204368  0.879919\n",
      "  1  1.130911 -0.261552  0.205067 -0.283011 -0.456438\n",
      "  2 -1.026563 -0.926064 -1.248344  0.418241  1.224234\n"
     ]
    },
    {
     "data": {
      "text/html": [
       "<div>\n",
       "<style>\n",
       "    .dataframe thead tr:only-child th {\n",
       "        text-align: right;\n",
       "    }\n",
       "\n",
       "    .dataframe thead th {\n",
       "        text-align: left;\n",
       "    }\n",
       "\n",
       "    .dataframe tbody tr th {\n",
       "        vertical-align: top;\n",
       "    }\n",
       "</style>\n",
       "<table border=\"1\" class=\"dataframe\">\n",
       "  <thead>\n",
       "    <tr>\n",
       "      <th></th>\n",
       "      <th>A</th>\n",
       "      <th>B</th>\n",
       "      <th>A</th>\n",
       "      <th colspan=\"2\" halign=\"left\">B</th>\n",
       "    </tr>\n",
       "    <tr>\n",
       "      <th></th>\n",
       "      <th>alpha</th>\n",
       "      <th>alpha</th>\n",
       "      <th>beta</th>\n",
       "      <th>beta</th>\n",
       "      <th>beta</th>\n",
       "    </tr>\n",
       "  </thead>\n",
       "  <tbody>\n",
       "    <tr>\n",
       "      <th>a</th>\n",
       "      <td>-0.613130</td>\n",
       "      <td>-0.390712</td>\n",
       "      <td>-0.723559</td>\n",
       "      <td>-1.099751</td>\n",
       "      <td>2.596381</td>\n",
       "    </tr>\n",
       "    <tr>\n",
       "      <th>b</th>\n",
       "      <td>1.411324</td>\n",
       "      <td>0.690293</td>\n",
       "      <td>0.148201</td>\n",
       "      <td>0.339598</td>\n",
       "      <td>1.647715</td>\n",
       "    </tr>\n",
       "  </tbody>\n",
       "</table>\n",
       "</div>"
      ],
      "text/plain": [
       "          A         B         A         B          \n",
       "      alpha     alpha      beta      beta      beta\n",
       "a -0.613130 -0.390712 -0.723559 -1.099751  2.596381\n",
       "b  1.411324  0.690293  0.148201  0.339598  1.647715"
      ]
     },
     "execution_count": 145,
     "metadata": {},
     "output_type": "execute_result"
    }
   ],
   "source": [
    "# Reordering and sorting levels\n",
    "print frame_2.swaplevel(0,1, axis = 0),'\\n',frame_2.swaplevel(0,1, axis = 1)\n",
    "\n",
    "print frame_2.sort_index(level=0),'\\n', frame_2.sort_index(level = 1, axis=1)\n",
    "\n",
    "# Summary statistics by level\n",
    "frame_2.sum(level = 0)"
   ]
  },
  {
   "cell_type": "code",
   "execution_count": 176,
   "metadata": {
    "collapsed": false
   },
   "outputs": [
    {
     "name": "stdout",
     "output_type": "stream",
     "text": [
      "     a  b  d\n",
      "c           \n",
      "one  0  7  0\n",
      "one  1  6  1\n",
      "one  2  5  2\n",
      "two  3  4  0\n",
      "two  4  3  1\n",
      "two  5  2  2\n",
      "two  6  1  3\n",
      "    index         b         d         e\n",
      "0    Utah  0.573024  1.031344  0.317034\n",
      "1    Ohio  1.506883  0.639153  0.513237\n",
      "2   Texas  0.274266 -1.939441  0.803197\n",
      "3  Oregon  0.003544  0.123395 -0.534811\n"
     ]
    }
   ],
   "source": [
    "# Using a data frame's columns\n",
    "\n",
    "frame_3 = DataFrame({'a': range(7), 'b': range(7, 0, -1), 'c': ['one', 'one', 'one', 'two', 'two', 'two', 'two'],'d': [0, 1, 2, 0, 1, 2, 3]})\n",
    "\n",
    "print frame_3.set_index('c')\n",
    "\n",
    "print frame.reset_index()\n"
   ]
  },
  {
   "cell_type": "code",
   "execution_count": 189,
   "metadata": {
    "collapsed": false
   },
   "outputs": [
    {
     "name": "stdout",
     "output_type": "stream",
     "text": [
      "              Open    High     Low   Close      Volume\n",
      "Date                                                  \n",
      "2016-12-23  115.59  116.52  115.59  116.52  14249484.0\n",
      "2016-12-27  116.52  117.80  116.49  117.26  18296855.0\n",
      "2016-12-28  117.52  118.02  116.20  116.76  20905892.0\n",
      "2016-12-29  116.45  117.11  116.40  116.73  15039519.0\n",
      "2016-12-30  116.65  117.20  115.43  115.82  30586265.0\n",
      "                   AAPL    GOOG    IBM   MSFT\n",
      "Date       minor                             \n",
      "2007-01-03 Open   12.33  232.77  97.18  29.91\n",
      "           High   12.37  238.09  98.40  30.25\n",
      "           Low    11.70  230.32  96.26  29.40\n",
      "           Close  11.97  233.56  97.27  29.86\n",
      "2007-01-04 Open   12.01  234.27  97.25  29.70\n",
      "<class 'pandas.core.panel.Panel'>\n",
      "Dimensions: 5 (items) x 2 (major_axis) x 3 (minor_axis)\n",
      "Items axis: (A, alpha) to (B, beta)\n",
      "Major_axis axis: a to b\n",
      "Minor_axis axis: 1 to 3\n"
     ]
    },
    {
     "name": "stderr",
     "output_type": "stream",
     "text": [
      "/Volumes/Bear/2017_05_25_Programmer/anaconda/lib/python2.7/site-packages/ipykernel/__main__.py:15: DeprecationWarning: \n",
      "Panel is deprecated and will be removed in a future version.\n",
      "The recommended way to represent these types of 3-dimensional data are with a MultiIndex on a DataFrame, via the Panel.to_frame() method\n",
      "Alternatively, you can use the xarray package http://xarray.pydata.org/en/stable/.\n",
      "Pandas provides a `.to_xarray()` method to help automate this conversion.\n",
      "\n"
     ]
    }
   ],
   "source": [
    "# Data panel 3-D data frame\n",
    "pdata = pd.Panel(all_data)\n",
    "\n",
    "pdata\n",
    "\n",
    "print pdata['AAPL'].tail()\n",
    "\n",
    "# Whenever diving into columns\n",
    "pdata.loc[:,'2016-12-13',:]\n",
    "\n",
    "# Translate to data frame\n",
    "print pdata.to_frame().head()\n",
    "\n",
    "# Or transform from frame to panel NOTE: will be removed in the future\n",
    "print frame_2.to_panel()"
   ]
  },
  {
   "cell_type": "code",
   "execution_count": null,
   "metadata": {
    "collapsed": true
   },
   "outputs": [],
   "source": []
  }
 ],
 "metadata": {
  "kernelspec": {
   "display_name": "Python 2",
   "language": "python",
   "name": "python2"
  },
  "language_info": {
   "codemirror_mode": {
    "name": "ipython",
    "version": 2
   },
   "file_extension": ".py",
   "mimetype": "text/x-python",
   "name": "python",
   "nbconvert_exporter": "python",
   "pygments_lexer": "ipython2",
   "version": "2.7.13"
  }
 },
 "nbformat": 4,
 "nbformat_minor": 2
}
